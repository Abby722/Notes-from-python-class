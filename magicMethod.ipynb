{
 "cells": [
  {
   "cell_type": "markdown",
   "metadata": {},
   "source": [
    "## magic  methods"
   ]
  },
  {
   "cell_type": "code",
   "execution_count": 1,
   "metadata": {},
   "outputs": [],
   "source": [
    "class Bird:\n",
    "    def __init__(self):\n",
    "        self.hungry = True\n",
    "    \n",
    "    def eat(self):\n",
    "        if self.hungry:\n",
    "            print('Aaaah...')\n",
    "            self.hungry = False\n",
    "        else:\n",
    "            print('No,thanks.')"
   ]
  },
  {
   "cell_type": "code",
   "execution_count": 2,
   "metadata": {},
   "outputs": [
    {
     "name": "stdout",
     "output_type": "stream",
     "text": [
      "Aaaah...\n"
     ]
    }
   ],
   "source": [
    "b = Bird()\n",
    "b.eat()"
   ]
  },
  {
   "cell_type": "code",
   "execution_count": 18,
   "metadata": {},
   "outputs": [],
   "source": [
    "class SongBird(Bird):\n",
    "    def __init__(self):\n",
    "        #Bird.__init__(self) \n",
    "        super().__init__() # 此方法是bind method\n",
    "        self.sound = 'Squawki!'\n",
    "    \n",
    "    def sing(self):\n",
    "        print(self.sound)\n",
    "        \n"
   ]
  },
  {
   "cell_type": "code",
   "execution_count": 20,
   "metadata": {},
   "outputs": [
    {
     "name": "stdout",
     "output_type": "stream",
     "text": [
      "Squawki!\n",
      "Aaaah...\n"
     ]
    }
   ],
   "source": [
    "s = SongBird()\n",
    "s.sing()\n",
    "s.eat()"
   ]
  },
  {
   "cell_type": "code",
   "execution_count": 28,
   "metadata": {},
   "outputs": [],
   "source": [
    "class A:\n",
    "    def __init__(self):\n",
    "        self.a = 'a'\n",
    "\n",
    "class B(A):\n",
    "    def __init__(self):\n",
    "        super().__init__()\n",
    "        self.b = 'b'\n",
    "\n",
    "class C(B):\n",
    "    def __init__(self):\n",
    "        super().__init__()\n",
    "        self.c = 'c'\n",
    "    \n",
    "    def test(self):\n",
    "        print(self.a,self.b,self.c)"
   ]
  },
  {
   "cell_type": "code",
   "execution_count": 26,
   "metadata": {},
   "outputs": [
    {
     "name": "stdout",
     "output_type": "stream",
     "text": [
      "a c\n"
     ]
    }
   ],
   "source": [
    "c = C()\n",
    "c.test()"
   ]
  },
  {
   "cell_type": "code",
   "execution_count": 29,
   "metadata": {},
   "outputs": [
    {
     "name": "stdout",
     "output_type": "stream",
     "text": [
      "a b c\n"
     ]
    }
   ],
   "source": [
    "c = C()\n",
    "c.test()"
   ]
  },
  {
   "cell_type": "code",
   "execution_count": 30,
   "metadata": {},
   "outputs": [],
   "source": [
    "class Hamburger:\n",
    "    def __init__(self):\n",
    "        self.meat = 'beef'\n",
    "        self.toppings = ['tomato','bacon','onion ring']\n",
    "        self.condiments = ['lime sour sauce']\n",
    "    \n",
    "    "
   ]
  },
  {
   "cell_type": "code",
   "execution_count": 34,
   "metadata": {},
   "outputs": [],
   "source": [
    "beaf_hamburger = Hamburger()\n",
    "beaf_hamburger.toppings = ['tomato','lettuce']\n",
    "beaf_hamburger.cindiments = ['mayo']"
   ]
  },
  {
   "cell_type": "code",
   "execution_count": 35,
   "metadata": {},
   "outputs": [],
   "source": [
    "chicken_hamburger = Hamburger()\n",
    "chicken_hamburger.meat = 'chicken'\n",
    "chicken_hamburger.toppings = ['red pepper','lettuce']\n",
    "chicken_hamburger.condiments = ['BBQ source']"
   ]
  },
  {
   "cell_type": "code",
   "execution_count": 36,
   "metadata": {},
   "outputs": [
    {
     "data": {
      "text/plain": [
       "5"
      ]
     },
     "execution_count": 36,
     "metadata": {},
     "output_type": "execute_result"
    }
   ],
   "source": [
    "# __len(self)__\n",
    "len('hello')"
   ]
  },
  {
   "cell_type": "code",
   "execution_count": 37,
   "metadata": {},
   "outputs": [
    {
     "name": "stdout",
     "output_type": "stream",
     "text": [
      "1\n"
     ]
    }
   ],
   "source": [
    "# __getitem__(self,key)\n",
    "my_list = [1,2,3]\n",
    "print(my_list[0])\n"
   ]
  },
  {
   "cell_type": "code",
   "execution_count": 38,
   "metadata": {},
   "outputs": [],
   "source": [
    "# __setitem__(self,key)\n",
    "my_list[0] = 2"
   ]
  },
  {
   "cell_type": "code",
   "execution_count": 39,
   "metadata": {},
   "outputs": [],
   "source": [
    "# __delitem__(self,key)\n",
    "del my_list[0]"
   ]
  },
  {
   "cell_type": "code",
   "execution_count": null,
   "metadata": {},
   "outputs": [],
   "source": [
    "class ArithmeticsSequence:\n",
    "    def __init__(slef,start = 0,step = 1):\n",
    "        self.start = start\n",
    "        self.step = step\n",
    "        self.changed = {}\n",
    "    \n",
    "    def check_key(key):\n",
    "        if not isinstance(key,int):raise TypeError\n",
    "        if key < 0 :raise Index\n",
    "    def __getitem__(self,key):\n",
    "        if not isinstance(key,int):raise TypeError #判断key是否为int\n",
    "        if key < 0 :raise IndexError #\n",
    "        try:return self.changed[key]\n",
    "        except KeyError: #字典中找不到key\n",
    "            return self.start + key * self.step\n",
    "    \n",
    "    def __setitem__(self,key,value):\n",
    "        self.changed[key] = value"
   ]
  },
  {
   "cell_type": "code",
   "execution_count": null,
   "metadata": {},
   "outputs": [],
   "source": []
  },
  {
   "cell_type": "code",
   "execution_count": 40,
   "metadata": {},
   "outputs": [
    {
     "ename": "NameError",
     "evalue": "name 'ArithmeticSequence' is not defined",
     "output_type": "error",
     "traceback": [
      "\u001b[1;31m---------------------------------------------------------------------------\u001b[0m",
      "\u001b[1;31mNameError\u001b[0m                                 Traceback (most recent call last)",
      "\u001b[1;32m<ipython-input-40-ea91c6738d5a>\u001b[0m in \u001b[0;36m<module>\u001b[1;34m\u001b[0m\n\u001b[1;32m----> 1\u001b[1;33m \u001b[0ms\u001b[0m \u001b[1;33m=\u001b[0m \u001b[0mArithmeticSequence\u001b[0m\u001b[1;33m(\u001b[0m\u001b[1;36m1\u001b[0m\u001b[1;33m,\u001b[0m\u001b[1;36m2\u001b[0m\u001b[1;33m)\u001b[0m\u001b[1;33m\u001b[0m\u001b[0m\n\u001b[0m\u001b[0;32m      2\u001b[0m \u001b[0mprint\u001b[0m\u001b[1;33m(\u001b[0m\u001b[0ms\u001b[0m\u001b[1;33m[\u001b[0m\u001b[1;36m4\u001b[0m\u001b[1;33m]\u001b[0m\u001b[1;33m)\u001b[0m\u001b[1;33m\u001b[0m\u001b[0m\n\u001b[0;32m      3\u001b[0m \u001b[0mprint\u001b[0m\u001b[1;33m(\u001b[0m\u001b[0ms\u001b[0m\u001b[1;33m[\u001b[0m\u001b[1;36m10000\u001b[0m\u001b[1;33m]\u001b[0m\u001b[1;33m)\u001b[0m\u001b[1;33m\u001b[0m\u001b[0m\n\u001b[0;32m      4\u001b[0m \u001b[0ms\u001b[0m\u001b[1;33m[\u001b[0m\u001b[1;36m4\u001b[0m\u001b[1;33m]\u001b[0m \u001b[1;33m=\u001b[0m \u001b[1;36m100\u001b[0m\u001b[1;33m\u001b[0m\u001b[0m\n",
      "\u001b[1;31mNameError\u001b[0m: name 'ArithmeticSequence' is not defined"
     ]
    }
   ],
   "source": [
    "s = ArithmeticSequence(1,2)\n",
    "print(s[4])\n",
    "print(s[10000])\n",
    "s[4] = 100"
   ]
  },
  {
   "cell_type": "code",
   "execution_count": null,
   "metadata": {},
   "outputs": [],
   "source": []
  },
  {
   "cell_type": "code",
   "execution_count": 52,
   "metadata": {},
   "outputs": [],
   "source": [
    "from time import sleep\n",
    "import random\n",
    "\n",
    "class Bar:\n",
    "    __empty = '-'\n",
    "    def __init__(self, length=80):\n",
    "        self.bar = list()\n",
    "        for i in range(0, length):\n",
    "            self.bar.append(Bar.__empty)\n",
    "    \n",
    "    def reset(self):\n",
    "        for i in range(len(self.bar)):\n",
    "            self.bar[i] = Bar.__empty\n",
    "            \n",
    "    def update(self, ants):\n",
    "        self.reset()\n",
    "        for ant in ants:\n",
    "            if 0 <= ant.position < len(self.bar):\n",
    "                self.bar[ant.position] = ant.symbol\n",
    "                \n",
    "    def is_empty(self):\n",
    "        for item in self.bar:\n",
    "            if not item == Bar.__empty:\n",
    "                return False\n",
    "        else:\n",
    "            return True\n",
    "        \n",
    "    def show(self):\n",
    "        for ch in self.bar:\n",
    "            print(ch, sep='', end='')\n",
    "        print('', end='\\r')\n",
    "        \n",
    "    \n",
    "class Ant:\n",
    "    symbols = 'ABCDEFGHIJKLMNOPQRSTUVWXYZ'\n",
    "    count = 0\n",
    "    def __init__(self, position, direction, symbol=None):\n",
    "        self.position = position\n",
    "        self.direction = direction\n",
    "        if symbol is None:\n",
    "            self.symbol = Ant.symbols[Ant.count]\n",
    "            Ant.count += 1\n",
    "        else:\n",
    "            self.symbol = symbol\n",
    "        \n",
    "    def move(self): # 这个代码没有写完\n",
    "        self.position += self.direction\n",
    "        \n",
    "    def create_random_ant(length=80):\n",
    "        position = random.randint(0, length - 1)\n",
    "        direction = random.choice([1, -1])\n",
    "        return Ant(position, direction)\n",
    "        \n",
    "class Ants:\n",
    "    def __init__(self, count=3):\n",
    "        self.ants = list()\n",
    "        for i in range(count):\n",
    "            self.ants.append(Ant.create_random_ant())\n",
    "\n",
    "    def move(self):\n",
    "        for ant,uturn in [(ant,self.need_uturn(ant) ) for ant in self.ants]:\n",
    "            ant.move(uturn)\n",
    "            \n",
    "    def collided(self,ant):\n",
    "        return len([item for item in self.ants if ant.position == item.position]) == 2\n",
    "    \n",
    "    def find_ant(self,position):\n",
    "        for ant in self.ants:\n",
    "            if ant.position == position:\n",
    "                return ant\n",
    "        return None\n",
    "    \n",
    "    def need_uturn(self,ant):\n",
    "        if self.collided(ant):\n",
    "            return True\n",
    "        else:\n",
    "            neighbor = self.find_ant(ant.position + ant.direction)\n",
    "            if neighbor :\n",
    "                if neighbor.direction != ant.direction or (neighbor.direction == ant.direction and need_uturn(neighbor)):\n",
    "                    return True\n",
    "        return False\n",
    "    \n",
    "       #def get_ants(self):\n",
    "     #return self.ants\n",
    "    def __get__item(self,key):\n",
    "        return self.ants[key]\n",
    "   \n",
    "    def __len__(self):\n",
    "        return len(self.ants)\n",
    "    \n",
    "    def __iter__(self):\n",
    "        self.__iter = iter(self.ants)\n",
    "        return self\n",
    "    \n",
    "    def __next__(self):\n",
    "        return next(self.__iter)\n",
    "\n",
    "    \n"
   ]
  },
  {
   "cell_type": "code",
   "execution_count": 54,
   "metadata": {},
   "outputs": [
    {
     "name": "stdout",
     "output_type": "stream",
     "text": [
      "--------------------------------------------------------------------------------\r"
     ]
    }
   ],
   "source": [
    "bar = Bar(80)\n",
    "ants = Ants(5)\n",
    "\n",
    "bar.update(ants)\n",
    "bar.show()\n",
    "\n",
    "while not bar.is_empty():\n",
    "    sleep(0.25)\n",
    "    ants.move()\n",
    "    bar.update(ants)\n",
    "    bar.show()      "
   ]
  },
  {
   "cell_type": "code",
   "execution_count": 44,
   "metadata": {},
   "outputs": [
    {
     "name": "stdout",
     "output_type": "stream",
     "text": [
      "1 2 3 "
     ]
    }
   ],
   "source": [
    "# Iterator\n",
    "my_list = [1,2,3]\n",
    "for i in my_list:\n",
    "    print(i,end = ' ')"
   ]
  },
  {
   "cell_type": "code",
   "execution_count": 45,
   "metadata": {},
   "outputs": [],
   "source": [
    "# 分离容器类和iterator对象\n",
    "# 容器类__iter__() 返回Iterator对象\n",
    "# iterator对象要实现__next__(),返回容器下一个项目"
   ]
  },
  {
   "cell_type": "code",
   "execution_count": 46,
   "metadata": {},
   "outputs": [
    {
     "name": "stdout",
     "output_type": "stream",
     "text": [
      "1 1 2 3 5 8 13 21 34 55 89 144 233 377 610 987 1597 "
     ]
    }
   ],
   "source": [
    "class Fibs:\n",
    "    def __init__(self):\n",
    "        self.a = 0\n",
    "        self.b = 1\n",
    "    \n",
    "    def __next__(self):\n",
    "        self.a,self.b = self.b,self.a + self.b\n",
    "        return self.a\n",
    "    \n",
    "    def __iter__(self): # 第一步通过iter方法告诉python对象谁实现了next方法，返回self,表明自己实现了next方法\n",
    "        return self--\n",
    "\n",
    "for i in Fibs():\n",
    "    print(i,end =' ')\n",
    "    if i > 1000:break"
   ]
  },
  {
   "cell_type": "code",
   "execution_count": 51,
   "metadata": {},
   "outputs": [
    {
     "name": "stdout",
     "output_type": "stream",
     "text": [
      "1 1 2 3 5 8 13 21 34 55 89 144 233 377 610 987 "
     ]
    }
   ],
   "source": [
    "class Fibs:\n",
    "    def __init__(self,max):\n",
    "        self.a = 0\n",
    "        self.b = 1\n",
    "        self.max = max\n",
    "    \n",
    "    def __next__(self):\n",
    "        self.a,self.b = self.b,self.a + self.b\n",
    "        if self.a > self.max:raise StopIteration\n",
    "        return self.a\n",
    "    \n",
    "    def __iter__(self): # 第一步通过iter方法告诉python对象谁实现了next方法，返回self,表明自己实现了next方法\n",
    "        return self\n",
    "    \n",
    "for i in Fibs(1000):\n",
    "    print(i,end = ' ')\n"
   ]
  },
  {
   "cell_type": "code",
   "execution_count": 1,
   "metadata": {},
   "outputs": [],
   "source": [
    "class Rectangle:\n",
    "    def __init__(self):\n",
    "        self.width =0\n",
    "        self.height = 0\n",
    "        \n",
    "    def set_size(self,size):\n",
    "        assert(size[0] >= 0 and size[1] >=0)\n",
    "        self.width,self.height = size\n",
    "    \n",
    "    def get_size(self):\n",
    "        return self.width,self.height\n",
    "    \n",
    "    size = property(get_size,set_size)"
   ]
  },
  {
   "cell_type": "code",
   "execution_count": 2,
   "metadata": {},
   "outputs": [
    {
     "ename": "AssertionError",
     "evalue": "",
     "output_type": "error",
     "traceback": [
      "\u001b[1;31m---------------------------------------------------------------------------\u001b[0m",
      "\u001b[1;31mAssertionError\u001b[0m                            Traceback (most recent call last)",
      "\u001b[1;32m<ipython-input-2-7d74451eacd2>\u001b[0m in \u001b[0;36m<module>\u001b[1;34m\u001b[0m\n\u001b[0;32m      1\u001b[0m \u001b[0mrect\u001b[0m \u001b[1;33m=\u001b[0m \u001b[0mRectangle\u001b[0m\u001b[1;33m(\u001b[0m\u001b[1;33m)\u001b[0m\u001b[1;33m\u001b[0m\u001b[0m\n\u001b[1;32m----> 2\u001b[1;33m \u001b[0mrect\u001b[0m\u001b[1;33m.\u001b[0m\u001b[0mset_size\u001b[0m\u001b[1;33m(\u001b[0m\u001b[1;33m(\u001b[0m\u001b[1;33m-\u001b[0m\u001b[1;36m3\u001b[0m\u001b[1;33m,\u001b[0m\u001b[1;36m4\u001b[0m\u001b[1;33m)\u001b[0m\u001b[1;33m)\u001b[0m\u001b[1;33m\u001b[0m\u001b[0m\n\u001b[0m\u001b[0;32m      3\u001b[0m \u001b[0mprint\u001b[0m\u001b[1;33m(\u001b[0m\u001b[0mrect\u001b[0m\u001b[1;33m.\u001b[0m\u001b[0mget_size\u001b[0m\u001b[1;33m(\u001b[0m\u001b[1;33m)\u001b[0m\u001b[1;33m)\u001b[0m\u001b[1;33m\u001b[0m\u001b[0m\n",
      "\u001b[1;32m<ipython-input-1-875b9f76aa44>\u001b[0m in \u001b[0;36mset_size\u001b[1;34m(self, size)\u001b[0m\n\u001b[0;32m      5\u001b[0m \u001b[1;33m\u001b[0m\u001b[0m\n\u001b[0;32m      6\u001b[0m     \u001b[1;32mdef\u001b[0m \u001b[0mset_size\u001b[0m\u001b[1;33m(\u001b[0m\u001b[0mself\u001b[0m\u001b[1;33m,\u001b[0m\u001b[0msize\u001b[0m\u001b[1;33m)\u001b[0m\u001b[1;33m:\u001b[0m\u001b[1;33m\u001b[0m\u001b[0m\n\u001b[1;32m----> 7\u001b[1;33m         \u001b[1;32massert\u001b[0m\u001b[1;33m(\u001b[0m\u001b[0msize\u001b[0m\u001b[1;33m[\u001b[0m\u001b[1;36m0\u001b[0m\u001b[1;33m]\u001b[0m \u001b[1;33m>=\u001b[0m \u001b[1;36m0\u001b[0m \u001b[1;32mand\u001b[0m \u001b[0msize\u001b[0m\u001b[1;33m[\u001b[0m\u001b[1;36m1\u001b[0m\u001b[1;33m]\u001b[0m \u001b[1;33m>=\u001b[0m\u001b[1;36m0\u001b[0m\u001b[1;33m)\u001b[0m\u001b[1;33m\u001b[0m\u001b[0m\n\u001b[0m\u001b[0;32m      8\u001b[0m         \u001b[0mself\u001b[0m\u001b[1;33m.\u001b[0m\u001b[0mwidth\u001b[0m\u001b[1;33m,\u001b[0m\u001b[0mself\u001b[0m\u001b[1;33m.\u001b[0m\u001b[0mheight\u001b[0m \u001b[1;33m=\u001b[0m \u001b[0msize\u001b[0m\u001b[1;33m\u001b[0m\u001b[0m\n\u001b[0;32m      9\u001b[0m \u001b[1;33m\u001b[0m\u001b[0m\n",
      "\u001b[1;31mAssertionError\u001b[0m: "
     ]
    }
   ],
   "source": [
    "rect = Rectangle()\n",
    "rect.set_size((-3,4))\n",
    "print(rect.get_size())"
   ]
  },
  {
   "cell_type": "code",
   "execution_count": 4,
   "metadata": {},
   "outputs": [
    {
     "name": "stdout",
     "output_type": "stream",
     "text": [
      "(3, 4)\n"
     ]
    }
   ],
   "source": [
    "rect.size = (3,4)\n",
    "print(rect.size)"
   ]
  },
  {
   "cell_type": "code",
   "execution_count": 5,
   "metadata": {},
   "outputs": [
    {
     "ename": "AssertionError",
     "evalue": "",
     "output_type": "error",
     "traceback": [
      "\u001b[1;31m---------------------------------------------------------------------------\u001b[0m",
      "\u001b[1;31mAssertionError\u001b[0m                            Traceback (most recent call last)",
      "\u001b[1;32m<ipython-input-5-f299afb0f7e1>\u001b[0m in \u001b[0;36m<module>\u001b[1;34m\u001b[0m\n\u001b[1;32m----> 1\u001b[1;33m \u001b[0mrect\u001b[0m\u001b[1;33m.\u001b[0m\u001b[0msize\u001b[0m \u001b[1;33m=\u001b[0m \u001b[1;33m(\u001b[0m\u001b[1;33m-\u001b[0m\u001b[1;36m3\u001b[0m\u001b[1;33m,\u001b[0m\u001b[1;36m4\u001b[0m\u001b[1;33m)\u001b[0m\u001b[1;33m\u001b[0m\u001b[0m\n\u001b[0m",
      "\u001b[1;32m<ipython-input-1-875b9f76aa44>\u001b[0m in \u001b[0;36mset_size\u001b[1;34m(self, size)\u001b[0m\n\u001b[0;32m      5\u001b[0m \u001b[1;33m\u001b[0m\u001b[0m\n\u001b[0;32m      6\u001b[0m     \u001b[1;32mdef\u001b[0m \u001b[0mset_size\u001b[0m\u001b[1;33m(\u001b[0m\u001b[0mself\u001b[0m\u001b[1;33m,\u001b[0m\u001b[0msize\u001b[0m\u001b[1;33m)\u001b[0m\u001b[1;33m:\u001b[0m\u001b[1;33m\u001b[0m\u001b[0m\n\u001b[1;32m----> 7\u001b[1;33m         \u001b[1;32massert\u001b[0m\u001b[1;33m(\u001b[0m\u001b[0msize\u001b[0m\u001b[1;33m[\u001b[0m\u001b[1;36m0\u001b[0m\u001b[1;33m]\u001b[0m \u001b[1;33m>=\u001b[0m \u001b[1;36m0\u001b[0m \u001b[1;32mand\u001b[0m \u001b[0msize\u001b[0m\u001b[1;33m[\u001b[0m\u001b[1;36m1\u001b[0m\u001b[1;33m]\u001b[0m \u001b[1;33m>=\u001b[0m\u001b[1;36m0\u001b[0m\u001b[1;33m)\u001b[0m\u001b[1;33m\u001b[0m\u001b[0m\n\u001b[0m\u001b[0;32m      8\u001b[0m         \u001b[0mself\u001b[0m\u001b[1;33m.\u001b[0m\u001b[0mwidth\u001b[0m\u001b[1;33m,\u001b[0m\u001b[0mself\u001b[0m\u001b[1;33m.\u001b[0m\u001b[0mheight\u001b[0m \u001b[1;33m=\u001b[0m \u001b[0msize\u001b[0m\u001b[1;33m\u001b[0m\u001b[0m\n\u001b[0;32m      9\u001b[0m \u001b[1;33m\u001b[0m\u001b[0m\n",
      "\u001b[1;31mAssertionError\u001b[0m: "
     ]
    }
   ],
   "source": [
    "rect.size = (-3,4)"
   ]
  },
  {
   "cell_type": "code",
   "execution_count": 6,
   "metadata": {},
   "outputs": [],
   "source": [
    "class Rectangle:\n",
    "    def __init__(self):\n",
    "        self.__width =0\n",
    "        self.__height = 0\n",
    "        \n",
    "    def set_size(self,size):\n",
    "        assert(size[0] >= 0 and size[1] >=0)\n",
    "        self.__width,self.__height = size\n",
    "    \n",
    "    def get_size(self):\n",
    "        return self.__width,self.__height\n",
    "    \n",
    "    size = property(get_size,set_size)\n",
    "    \n",
    "    def get_width(self):\n",
    "        return self.__width\n",
    "\n",
    "    def set_width(self,width):\n",
    "        if width < 0 :raise ValueError\n",
    "        self.__width = width\n",
    "    \n",
    "    def get_height(self):\n",
    "        return self.__height\n",
    "    \n",
    "    def set_height(self,height):\n",
    "        if height < 0:raise ValueError\n",
    "        self.__height = height\n",
    "    \n",
    "    width = property(get_width,set_width)\n",
    "    height = property(get_height,set_height)"
   ]
  },
  {
   "cell_type": "code",
   "execution_count": 8,
   "metadata": {},
   "outputs": [
    {
     "name": "stdout",
     "output_type": "stream",
     "text": [
      "5\n"
     ]
    }
   ],
   "source": [
    "rect = Rectangle()\n",
    "rect.width = 5 \n",
    "print(rect.width)"
   ]
  },
  {
   "cell_type": "code",
   "execution_count": 12,
   "metadata": {},
   "outputs": [
    {
     "name": "stdout",
     "output_type": "stream",
     "text": [
      "This is a static method.\n",
      "This is a class method.\n"
     ]
    }
   ],
   "source": [
    "class MyClass:\n",
    "    def static_method(): #静态方法，不能访问类也不能访问对象\n",
    "        print('This is a static method.')\n",
    "    static_method = staticmethod(static_method)  # 创建了一个staticmethod类，但是仍然可以调用\n",
    "\n",
    "    def class_method(self): # classmethod\n",
    "        print('This is a class method.')\n",
    "    class_method = classmethod(class_method)\n",
    "    \n",
    "MyClass.static_method()\n",
    "MyClass.class_method()"
   ]
  },
  {
   "cell_type": "code",
   "execution_count": 13,
   "metadata": {},
   "outputs": [
    {
     "name": "stdout",
     "output_type": "stream",
     "text": [
      "This is a static method.\n",
      "This is a class method.\n"
     ]
    }
   ],
   "source": [
    "class MyClass:\n",
    "    @staticmethod #修饰器\n",
    "    def static_method(): #静态方法，不能访问类也不能访问对象\n",
    "        print('This is a static method.')\n",
    "    #static_method = staticmethod(static_method)  # 创建了一个staticmethod类，但是仍然可以调用\n",
    "    \n",
    "    @classmethod\n",
    "    def class_method(self): # classmethod\n",
    "        print('This is a class method.')\n",
    "    #class_method = classmethod(class_method)\n",
    "\n",
    "MyClass.static_method()\n",
    "MyClass.class_method()"
   ]
  },
  {
   "cell_type": "code",
   "execution_count": 16,
   "metadata": {},
   "outputs": [],
   "source": [
    "class Rectangle:\n",
    "    def __init__(self):\n",
    "        self.__width =0\n",
    "        self.__height = 0\n",
    "    \n",
    "    @property\n",
    "    def size(self):\n",
    "        return self.__width,self.__height\n",
    "    \n",
    "    @size.setter\n",
    "    def size(self,size):\n",
    "        assert(size[0] >= 0 and size[1] >=0)\n",
    "        self.__width,self.__height = size\n",
    "    \n",
    " \n",
    "    \n",
    "    #size = property(get_size,set_size)\n",
    "    @property\n",
    "    def width(self):\n",
    "        return self.__width\n",
    "    \n",
    "    @width.setter\n",
    "    def width(self,width):\n",
    "        if width < 0 :raise ValueError\n",
    "        self.__width = width\n",
    "    \n",
    "    @property\n",
    "    def height(self):\n",
    "        return self.__height\n",
    "    \n",
    "    @height.setter\n",
    "    def height(self,height):\n",
    "        if height < 0:raise ValueError\n",
    "        self.__height = height\n",
    "    \n",
    "   "
   ]
  },
  {
   "cell_type": "code",
   "execution_count": 18,
   "metadata": {},
   "outputs": [
    {
     "name": "stdout",
     "output_type": "stream",
     "text": [
      "(3, 4)\n",
      "3\n",
      "4\n"
     ]
    }
   ],
   "source": [
    "rect = Rectangle()\n",
    "rect.size = (3,4)\n",
    "print(rect.size)\n",
    "print(rect.width)\n",
    "print(rect.height)"
   ]
  },
  {
   "cell_type": "markdown",
   "metadata": {},
   "source": [
    "###  魔法方法，通过改写这些方法让python系统调用\n",
    "### __setattr__：给属性赋值\n",
    "### __getattr__\n",
    "### 以下例子的使用基本被遗弃,现在用装饰器比较多"
   ]
  },
  {
   "cell_type": "code",
   "execution_count": 19,
   "metadata": {},
   "outputs": [],
   "source": [
    "class Rectangle:\n",
    "    def __init__(self):\n",
    "        self.width = 0\n",
    "        self.height = 0\n",
    "    \n",
    "    def __setattr__(self,name,value):\n",
    "        if name == 'size':\n",
    "            self.width,self.height = value\n",
    "        else:\n",
    "            self.__dict__[name] = value\n",
    "    \n",
    "    def __getattr__(self,name):\n",
    "        if name == 'size':\n",
    "            return self.width,self.height\n",
    "        else:\n",
    "            return self.__dict__[name]\n",
    "            #raise AttributeError()"
   ]
  },
  {
   "cell_type": "code",
   "execution_count": 23,
   "metadata": {},
   "outputs": [
    {
     "name": "stdout",
     "output_type": "stream",
     "text": [
      "(3, 4)\n"
     ]
    }
   ],
   "source": [
    "rect = Rectangle()\n",
    "rect.size = (3,4)\n",
    "print(rect.size)"
   ]
  },
  {
   "cell_type": "code",
   "execution_count": 24,
   "metadata": {},
   "outputs": [
    {
     "name": "stdout",
     "output_type": "stream",
     "text": [
      "5\n"
     ]
    }
   ],
   "source": [
    "rect = Rectangle()\n",
    "rect.height = 5\n",
    "print(rect.height)"
   ]
  },
  {
   "cell_type": "code",
   "execution_count": 25,
   "metadata": {},
   "outputs": [
    {
     "name": "stdout",
     "output_type": "stream",
     "text": [
      "5\n"
     ]
    }
   ],
   "source": [
    "print(rect.height)"
   ]
  },
  {
   "cell_type": "code",
   "execution_count": 27,
   "metadata": {},
   "outputs": [
    {
     "data": {
      "text/plain": [
       "{'width': 0, 'height': 5}"
      ]
     },
     "execution_count": 27,
     "metadata": {},
     "output_type": "execute_result"
    }
   ],
   "source": [
    "rect.__dict__"
   ]
  },
  {
   "cell_type": "code",
   "execution_count": null,
   "metadata": {},
   "outputs": [],
   "source": []
  }
 ],
 "metadata": {
  "kernelspec": {
   "display_name": "Python 3",
   "language": "python",
   "name": "python3"
  },
  "language_info": {
   "codemirror_mode": {
    "name": "ipython",
    "version": 3
   },
   "file_extension": ".py",
   "mimetype": "text/x-python",
   "name": "python",
   "nbconvert_exporter": "python",
   "pygments_lexer": "ipython3",
   "version": "3.6.4"
  }
 },
 "nbformat": 4,
 "nbformat_minor": 2
}

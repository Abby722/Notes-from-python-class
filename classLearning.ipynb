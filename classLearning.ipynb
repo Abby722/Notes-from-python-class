{
 "cells": [
  {
   "cell_type": "markdown",
   "metadata": {},
   "source": [
    "## 函数修饰器"
   ]
  },
  {
   "cell_type": "code",
   "execution_count": 1,
   "metadata": {},
   "outputs": [
    {
     "name": "stdout",
     "output_type": "stream",
     "text": [
      "<function foo.<locals>.bar at 0x000001BCDCCEAAE8>\n",
      "===1=== (10,)\n",
      "===2=== 90\n",
      "my_test\n",
      "===my_test函数== 90\n",
      "***************\n",
      "===my_test函数== 90\n"
     ]
    }
   ],
   "source": [
    "def foo(fn):\n",
    "    def bar(*args):\n",
    "        print(\"===1===\",args)\n",
    "        n = args[0]\n",
    "        print(\"===2===\",n*(n-1))\n",
    "        \n",
    "        print(fn.__name__)\n",
    "        fn(n*(n-1))\n",
    "        print('*'*15)\n",
    "        return fn(n*(n-1))\n",
    "    return bar\n",
    "\n",
    "@foo\n",
    "def my_test(a):\n",
    "    print('===my_test函数==',a)\n",
    "print(my_test)\n",
    "\n",
    "my_test(10)"
   ]
  },
  {
   "cell_type": "code",
   "execution_count": 2,
   "metadata": {},
   "outputs": [
    {
     "name": "stdout",
     "output_type": "stream",
     "text": [
      "===1=== (6, 5)\n",
      "===2=== 30\n",
      "my_test\n",
      "===my_test函数== 30\n",
      "***************\n",
      "===my_test函数== 30\n"
     ]
    }
   ],
   "source": [
    "my_test(6,5)"
   ]
  },
  {
   "cell_type": "markdown",
   "metadata": {},
   "source": [
    "### 通过函数修饰器为函数添加权限检查的功能"
   ]
  },
  {
   "cell_type": "code",
   "execution_count": 3,
   "metadata": {},
   "outputs": [
    {
     "name": "stdout",
     "output_type": "stream",
     "text": [
      "----模拟执行权限检查----\n",
      "执行test函数，参数a: 20,参数b: 15\n"
     ]
    }
   ],
   "source": [
    "def auth(fn):\n",
    "    def auth_fn(*args):\n",
    "        print('----模拟执行权限检查----')\n",
    "        fn(*args)\n",
    "    return auth_fn\n",
    "\n",
    "@auth\n",
    "def test(a,b):\n",
    "    print('执行test函数，参数a: {0},参数b: {1}'.format(a,b))\n",
    "\n",
    "test(20,15)"
   ]
  },
  {
   "cell_type": "markdown",
   "metadata": {},
   "source": [
    "## 成员变量"
   ]
  },
  {
   "cell_type": "code",
   "execution_count": 4,
   "metadata": {},
   "outputs": [],
   "source": [
    "class Address:\n",
    "    detail = '广州'\n",
    "    post_code = '510660'\n",
    "    def info(self):\n",
    "        print(Address.detail)\n",
    "        print(Address.post_code)\n",
    "        "
   ]
  },
  {
   "cell_type": "code",
   "execution_count": 5,
   "metadata": {},
   "outputs": [
    {
     "name": "stdout",
     "output_type": "stream",
     "text": [
      "广州\n",
      "广州\n",
      "510660\n",
      "佛山\n",
      "460110\n"
     ]
    }
   ],
   "source": [
    "print(Address.detail)\n",
    "addr = Address()\n",
    "addr.info()\n",
    "Address.detail ='佛山'\n",
    "Address.post_code = '460110'\n",
    "addr.info()"
   ]
  },
  {
   "cell_type": "code",
   "execution_count": 6,
   "metadata": {},
   "outputs": [],
   "source": [
    "class Record:\n",
    "    item = '鼠标'\n",
    "    date ='2019-11-23'\n",
    "    def info(self):\n",
    "        print('info方法中: ',self.item)\n",
    "        print('info方法中: ',self.date)"
   ]
  },
  {
   "cell_type": "code",
   "execution_count": 7,
   "metadata": {},
   "outputs": [
    {
     "name": "stdout",
     "output_type": "stream",
     "text": [
      "鼠标\n",
      "2019-11-23\n",
      "info方法中:  鼠标\n",
      "info方法中:  2019-11-23\n"
     ]
    }
   ],
   "source": [
    "rc = Record()\n",
    "print(rc.item)\n",
    "print(rc.date)\n",
    "rc.info()"
   ]
  },
  {
   "cell_type": "markdown",
   "metadata": {},
   "source": [
    "### 使用property函数定义属性"
   ]
  },
  {
   "cell_type": "code",
   "execution_count": 8,
   "metadata": {},
   "outputs": [],
   "source": [
    "class Rectangle:\n",
    "    def __init__(self,width,height):\n",
    "        self.width = width\n",
    "        self.height = height\n",
    "    \n",
    "    def setsize(self,size):\n",
    "        self.width,self.height = size\n",
    "    \n",
    "    def getsize(self):\n",
    "        return self.width,self.height\n",
    "    \n",
    "    def delsize(self):\n",
    "        self.width,self.height = 0,0\n",
    "    \n",
    "    size = property(getsize,setsize,delsize,'用于描述矩阵大小的属性')\n",
    "    "
   ]
  },
  {
   "cell_type": "code",
   "execution_count": 9,
   "metadata": {},
   "outputs": [
    {
     "name": "stdout",
     "output_type": "stream",
     "text": [
      "用于描述矩阵大小的属性\n"
     ]
    }
   ],
   "source": [
    "print(Rectangle.size.__doc__)"
   ]
  },
  {
   "cell_type": "code",
   "execution_count": 10,
   "metadata": {},
   "outputs": [
    {
     "name": "stdout",
     "output_type": "stream",
     "text": [
      "Help on property:\n",
      "\n",
      "    用于描述矩阵大小的属性\n",
      "\n"
     ]
    }
   ],
   "source": [
    "help(Rectangle.size)"
   ]
  },
  {
   "cell_type": "code",
   "execution_count": 11,
   "metadata": {},
   "outputs": [
    {
     "name": "stdout",
     "output_type": "stream",
     "text": [
      "(4, 3)\n",
      "9\n",
      "7\n",
      "0\n",
      "0\n"
     ]
    }
   ],
   "source": [
    "rect = Rectangle(4,3)\n",
    "print(rect.size)\n",
    "rect.size = 9,7\n",
    "print(rect.width)\n",
    "print(rect.height)\n",
    "del rect.size\n",
    "print(rect.width)\n",
    "print(rect.height)"
   ]
  },
  {
   "cell_type": "code",
   "execution_count": 16,
   "metadata": {},
   "outputs": [],
   "source": [
    "class User:\n",
    "    def __init__(self,first,last):\n",
    "        self.first = first\n",
    "        self.last = last\n",
    "    \n",
    "    def getfullname(self):\n",
    "        return self.first + ',' + self.last\n",
    "\n",
    "    def setfullname(self,fullname):\n",
    "        first_last = fullname.rsplit(',')\n",
    "        self.first = first_last[0]\n",
    "        self.last = first_last[1]\n",
    "        \n",
    "    fullname = property(getfullname,setfullname)\n",
    "    "
   ]
  },
  {
   "cell_type": "code",
   "execution_count": 18,
   "metadata": {},
   "outputs": [
    {
     "name": "stdout",
     "output_type": "stream",
     "text": [
      "悟空,孙\n",
      "八戒\n",
      "朱\n"
     ]
    }
   ],
   "source": [
    "u = User('悟空','孙')\n",
    "print(u.fullname)\n",
    "u.fullname = '八戒,朱'\n",
    "print(u.first)\n",
    "print(u.last)"
   ]
  },
  {
   "cell_type": "code",
   "execution_count": 19,
   "metadata": {},
   "outputs": [],
   "source": [
    "class Cell:\n",
    "    @property \n",
    "    def state(self):\n",
    "        return self._state\n",
    "    \n",
    "    @state.setter\n",
    "    def state(self,value):\n",
    "        if 'alive' in value.lower():\n",
    "            self._state = 'alive'\n",
    "        else:\n",
    "            self._state = 'dead'\n",
    "    \n",
    "    @property\n",
    "    def is_dead(self):\n",
    "        return not self._state.lower() == 'alive'\n",
    "    "
   ]
  },
  {
   "cell_type": "code",
   "execution_count": 20,
   "metadata": {},
   "outputs": [
    {
     "name": "stdout",
     "output_type": "stream",
     "text": [
      "alive\n",
      "False\n"
     ]
    }
   ],
   "source": [
    "c = Cell()\n",
    "c.state = 'Alive'\n",
    "print(c.state)\n",
    "print(c.is_dead)"
   ]
  },
  {
   "cell_type": "markdown",
   "metadata": {},
   "source": [
    "## 隐藏和封装"
   ]
  },
  {
   "cell_type": "code",
   "execution_count": 21,
   "metadata": {},
   "outputs": [],
   "source": [
    "class User:\n",
    "    def __hide(self):\n",
    "        print('示范隐藏的hide方法')\n",
    "    \n",
    "    def getname(self):\n",
    "        return self.__name\n",
    "    \n",
    "    def setname(self,name):\n",
    "        if len(name) < 3 or len(name) >8:\n",
    "            raise ValueError('用户名字必须在3-8之间')\n",
    "        self.__name = name\n",
    "    \n",
    "    name = property(getname,setname)\n",
    "    def setage(self,age):\n",
    "        if age < 18 or age > 70:\n",
    "            raise ValueError('用户名字必须在18-70之间')\n",
    "        self.__age = age\n",
    "    \n",
    "    def getage(self):\n",
    "        return self.__age"
   ]
  },
  {
   "cell_type": "code",
   "execution_count": 22,
   "metadata": {},
   "outputs": [
    {
     "ename": "ValueError",
     "evalue": "用户名字必须在3-8之间",
     "output_type": "error",
     "traceback": [
      "\u001b[1;31m---------------------------------------------------------------------------\u001b[0m",
      "\u001b[1;31mValueError\u001b[0m                                Traceback (most recent call last)",
      "\u001b[1;32m<ipython-input-22-fa6fd9e0c9e1>\u001b[0m in \u001b[0;36m<module>\u001b[1;34m\u001b[0m\n\u001b[0;32m      1\u001b[0m \u001b[0mu\u001b[0m \u001b[1;33m=\u001b[0m \u001b[0mUser\u001b[0m\u001b[1;33m(\u001b[0m\u001b[1;33m)\u001b[0m\u001b[1;33m\u001b[0m\u001b[0m\n\u001b[1;32m----> 2\u001b[1;33m \u001b[0mu\u001b[0m\u001b[1;33m.\u001b[0m\u001b[0mname\u001b[0m \u001b[1;33m=\u001b[0m \u001b[1;34m'fk'\u001b[0m\u001b[1;33m\u001b[0m\u001b[0m\n\u001b[0m",
      "\u001b[1;32m<ipython-input-21-20043c380c17>\u001b[0m in \u001b[0;36msetname\u001b[1;34m(self, name)\u001b[0m\n\u001b[0;32m      8\u001b[0m     \u001b[1;32mdef\u001b[0m \u001b[0msetname\u001b[0m\u001b[1;33m(\u001b[0m\u001b[0mself\u001b[0m\u001b[1;33m,\u001b[0m\u001b[0mname\u001b[0m\u001b[1;33m)\u001b[0m\u001b[1;33m:\u001b[0m\u001b[1;33m\u001b[0m\u001b[0m\n\u001b[0;32m      9\u001b[0m         \u001b[1;32mif\u001b[0m \u001b[0mlen\u001b[0m\u001b[1;33m(\u001b[0m\u001b[0mname\u001b[0m\u001b[1;33m)\u001b[0m \u001b[1;33m<\u001b[0m \u001b[1;36m3\u001b[0m \u001b[1;32mor\u001b[0m \u001b[0mlen\u001b[0m\u001b[1;33m(\u001b[0m\u001b[0mname\u001b[0m\u001b[1;33m)\u001b[0m \u001b[1;33m>\u001b[0m\u001b[1;36m8\u001b[0m\u001b[1;33m:\u001b[0m\u001b[1;33m\u001b[0m\u001b[0m\n\u001b[1;32m---> 10\u001b[1;33m             \u001b[1;32mraise\u001b[0m \u001b[0mValueError\u001b[0m\u001b[1;33m(\u001b[0m\u001b[1;34m'用户名字必须在3-8之间'\u001b[0m\u001b[1;33m)\u001b[0m\u001b[1;33m\u001b[0m\u001b[0m\n\u001b[0m\u001b[0;32m     11\u001b[0m         \u001b[0mself\u001b[0m\u001b[1;33m.\u001b[0m\u001b[0m__name\u001b[0m \u001b[1;33m=\u001b[0m \u001b[0mname\u001b[0m\u001b[1;33m\u001b[0m\u001b[0m\n\u001b[0;32m     12\u001b[0m \u001b[1;33m\u001b[0m\u001b[0m\n",
      "\u001b[1;31mValueError\u001b[0m: 用户名字必须在3-8之间"
     ]
    }
   ],
   "source": [
    "u = User()\n",
    "u.name = 'fk'"
   ]
  },
  {
   "cell_type": "code",
   "execution_count": 23,
   "metadata": {},
   "outputs": [],
   "source": [
    "u.setname('hello')"
   ]
  },
  {
   "cell_type": "code",
   "execution_count": 24,
   "metadata": {},
   "outputs": [
    {
     "data": {
      "text/plain": [
       "'hello'"
      ]
     },
     "execution_count": 24,
     "metadata": {},
     "output_type": "execute_result"
    }
   ],
   "source": [
    "u.getname()"
   ]
  },
  {
   "cell_type": "code",
   "execution_count": 25,
   "metadata": {},
   "outputs": [
    {
     "name": "stdout",
     "output_type": "stream",
     "text": [
      "fkit\n",
      "25\n"
     ]
    }
   ],
   "source": [
    "u.name = 'fkit'\n",
    "u.age = 25\n",
    "print(u.name)\n",
    "print(u.age)"
   ]
  },
  {
   "cell_type": "markdown",
   "metadata": {},
   "source": [
    "## 类的继承"
   ]
  },
  {
   "cell_type": "code",
   "execution_count": 26,
   "metadata": {},
   "outputs": [],
   "source": [
    "class Fruit:\n",
    "    def info(self):\n",
    "        print('我是一个水果！重 {} 克'.format(self.weight))\n",
    "    \n",
    "class Food:\n",
    "    def taste(self):\n",
    "        print('不同的事物口感不同')\n",
    "        \n",
    "class Apple(Fruit,Food):\n",
    "    pass"
   ]
  },
  {
   "cell_type": "code",
   "execution_count": 27,
   "metadata": {},
   "outputs": [
    {
     "name": "stdout",
     "output_type": "stream",
     "text": [
      "我是一个水果！重 5.6 克\n",
      "不同的事物口感不同\n"
     ]
    }
   ],
   "source": [
    "a = Apple()\n",
    "a.weight = 5.6\n",
    "a.info()\n",
    "a.taste()"
   ]
  },
  {
   "cell_type": "code",
   "execution_count": 28,
   "metadata": {},
   "outputs": [],
   "source": [
    "class Bird:\n",
    "    def fly(self):\n",
    "        print('我在天空中自由自在地飞翔...')\n",
    "class Ostrich(Bird):\n",
    "    def fly(self):\n",
    "        print('我只能在地上奔跑...')"
   ]
  },
  {
   "cell_type": "code",
   "execution_count": 29,
   "metadata": {},
   "outputs": [
    {
     "name": "stdout",
     "output_type": "stream",
     "text": [
      "我只能在地上奔跑...\n"
     ]
    }
   ],
   "source": [
    "os = Ostrich()\n",
    "os.fly()"
   ]
  },
  {
   "cell_type": "code",
   "execution_count": 30,
   "metadata": {},
   "outputs": [],
   "source": [
    "class BaseClass:\n",
    "    def foo(self):\n",
    "        print('父类中定义的foo方法')\n",
    "\n",
    "class SubClass(BaseClass):\n",
    "    def foo(self):\n",
    "        print('子类重写父类中的foo方法')\n",
    "    def bar(self):\n",
    "        print('执行bar方法')\n",
    "        self.foo()\n",
    "        BaseClass.foo(self)"
   ]
  },
  {
   "cell_type": "code",
   "execution_count": 31,
   "metadata": {},
   "outputs": [
    {
     "name": "stdout",
     "output_type": "stream",
     "text": [
      "执行bar方法\n",
      "子类重写父类中的foo方法\n",
      "父类中定义的foo方法\n"
     ]
    }
   ],
   "source": [
    "sc = SubClass()\n",
    "sc.bar()"
   ]
  },
  {
   "cell_type": "code",
   "execution_count": 32,
   "metadata": {},
   "outputs": [],
   "source": [
    "class Employee:\n",
    "    def __init__(self,salary):\n",
    "        self.salary = salary\n",
    "    \n",
    "    def work(self):\n",
    "        print('普通员工正在写代码，工资是{}'.format(self.salary))\n",
    "class Customer:\n",
    "    def __init__(self,favorite,address):\n",
    "        self.favorite = favorite\n",
    "        self.address = address\n",
    "    def info(self):\n",
    "        print('我是一个顾客，我的爱好是：{} ,地址是: {}'.format(self.favorite,self.address))\n",
    "\n",
    "class Manager(Employee,Customer):\n",
    "    def __init__(self,salary,favorite,address):\n",
    "        print('--Manager的构造方法--')\n",
    "        super().__init__(salary)\n",
    "        Customer.__init__(self,favorite,address)"
   ]
  },
  {
   "cell_type": "code",
   "execution_count": 33,
   "metadata": {},
   "outputs": [
    {
     "name": "stdout",
     "output_type": "stream",
     "text": [
      "--Manager的构造方法--\n",
      "普通员工正在写代码，工资是25000\n",
      "我是一个顾客，我的爱好是：IT产品 ,地址是: 广州\n"
     ]
    }
   ],
   "source": [
    "m = Manager(25000,'IT产品','广州')\n",
    "m.work()\n",
    "m.info()"
   ]
  },
  {
   "cell_type": "markdown",
   "metadata": {},
   "source": [
    "## 动态性"
   ]
  },
  {
   "cell_type": "code",
   "execution_count": 34,
   "metadata": {},
   "outputs": [
    {
     "name": "stdout",
     "output_type": "stream",
     "text": [
      "Garfield正在慢慢走过一片草坪\n",
      "Kityy正在慢慢走过一片草坪\n"
     ]
    }
   ],
   "source": [
    "class Cat:\n",
    "    def __init__(self,name):\n",
    "        self.name = name\n",
    "    \n",
    "def walk_func(self):\n",
    "    print('{}正在慢慢走过一片草坪'.format(self.name))\n",
    "    \n",
    "d1 = Cat('Garfield')\n",
    "d2 = Cat('Kityy')\n",
    "Cat.work = walk_func\n",
    "d1.work()\n",
    "d2.work()\n",
    "    \n",
    "    "
   ]
  },
  {
   "cell_type": "code",
   "execution_count": null,
   "metadata": {},
   "outputs": [],
   "source": []
  }
 ],
 "metadata": {
  "kernelspec": {
   "display_name": "Python 3",
   "language": "python",
   "name": "python3"
  },
  "language_info": {
   "codemirror_mode": {
    "name": "ipython",
    "version": 3
   },
   "file_extension": ".py",
   "mimetype": "text/x-python",
   "name": "python",
   "nbconvert_exporter": "python",
   "pygments_lexer": "ipython3",
   "version": "3.6.4"
  }
 },
 "nbformat": 4,
 "nbformat_minor": 2
}

{
 "cells": [
  {
   "cell_type": "code",
   "execution_count": 1,
   "metadata": {},
   "outputs": [
    {
     "name": "stdout",
     "output_type": "stream",
     "text": [
      "{'b': 1, 'a': 0}\n"
     ]
    }
   ],
   "source": [
    "d = dict()\n",
    "d['b'] = 1\n",
    "d.setdefault('a',0) #设置缺省值\n",
    "d.setdefault('b',0)\n",
    "print(d)"
   ]
  },
  {
   "cell_type": "code",
   "execution_count": 3,
   "metadata": {},
   "outputs": [
    {
     "name": "stdout",
     "output_type": "stream",
     "text": [
      "{'ch': 1}\n"
     ]
    }
   ],
   "source": []
  },
  {
   "cell_type": "code",
   "execution_count": 5,
   "metadata": {},
   "outputs": [
    {
     "name": "stdout",
     "output_type": "stream",
     "text": [
      "{'h': 1, 'e': 1, 'l': 3, 'o': 2, ',': 1, 'w': 1, 'r': 1, 'd': 1}\n"
     ]
    }
   ],
   "source": [
    "count = {}\n",
    "for ch in 'hello,world':\n",
    "    count.setdefault(ch,0)\n",
    "    count[ch] += 1\n",
    "print(count)"
   ]
  },
  {
   "cell_type": "code",
   "execution_count": 39,
   "metadata": {},
   "outputs": [],
   "source": [
    "text = '''To quote the old Monty Python song: “Here comes another one / Here it comes again / Here comes another one / When will it ever end?”\n",
    "Since the previous edition, Python 3 has become much more widespread, so this edition has fully transitioned to the Py3 world. There have been other changes as well, with packages\n",
    "in the Python ecosystem coming and going and coding practices going in and out of fashion. Where it has been necessary or useful, the book has been rewritten, but its origins are still visible. For example, when the\n",
    "original Practical Python came out at the beginning of the millennium, Usenet was still in semi-widespread use, though nowadays most Internet users probably haven’t even heard of it. So when the fourth code\n",
    "project (Chapter 23) involves connecting to an NNTP server, this is more of a historical curiosity than skills\n",
    "you are likely to apply directly in a mainstream programming career. Still, I’ve kept some of these more\n",
    "quirky parts of the book, as they still work well as programming examples and as they are part of the history\n",
    "of the book.\n",
    "All the people who helped previous editions see the light of day still deserve as many thanks as before.\n",
    "This time around, I would in particular like to extend my thanks to Mark Powers, who has been a paragon\n",
    "of patience when my progress faltered. I’d also like to thank Michael Thomas, who has done a great job of\n",
    "checking the technical aspects of the book (… and pointing out all the Python 2–style print statements I had\n",
    "missed; I hope I got them all). I hope you enjoy this updated edition, even though, as Terry Jones says about\n",
    "the song mentioned initially, “Obviously it would be better with a full orchestra.”\n",
    "'''"
   ]
  },
  {
   "cell_type": "code",
   "execution_count": 40,
   "metadata": {},
   "outputs": [
    {
     "name": "stdout",
     "output_type": "stream",
     "text": [
      "{'to': 1, 'quo': 1, 'e': 1, 'he': 18, 'old': 1, 'mon': 1, 'y': 2, 'py': 5, 'hon': 5, 'song:': 1, '“here': 1, 'comes': 3, 'ano': 2, 'her': 3, 'one': 2, 'here': 2, 'i': 11, 'again': 1, 'when': 4, 'will': 1, 'ever': 1, 'end': 2, '”': 2, 'since': 1, 'previous': 2, 'edi': 4, 'ion': 3, '3': 1, 'has': 6, 'become': 1, 'much': 1, 'more': 3, 'widespread': 2, 'so': 2, 'his': 5, 'fully': 1, 'ransi': 1, 'ioned': 2, 'o': 7, 'py3': 1, 'world': 1, 'there': 1, 'have': 1, 'been': 4, 'changes': 1, 'as': 7, 'well': 2, 'wi': 2, 'h': 3, 'packages': 1, 'in': 6, 'ecosys': 1, 'em': 1, 'coming': 1, 'and': 5, 'going': 2, 'coding': 1, 'prac': 2, 'ices': 1, 'ou': 3, 'of': 12, 'fashion': 1, 'where': 1, 'necessary': 1, 'or': 1, 'useful': 1, 'book': 4, 'rewri': 1, 'en': 1, 'bu': 1, 's': 10, 'origins': 1, 'are': 3, 'ill': 5, 'visible': 1, 'for': 1, 'example': 1, 'original': 1, 'ical': 1, 'came': 1, 'a': 7, 'beginning': 1, 'millennium': 1, 'usene': 1, 'was': 1, 'semi': 1, 'use': 1, 'hough': 2, 'nowadays': 1, 'mos': 1, 'erne': 1, 'users': 1, 'probably': 1, 'haven’': 1, 'even': 2, 'heard': 1, 'four': 1, 'code': 1, 'projec': 1, 'chap': 1, 'er': 2, '23': 1, 'involves': 1, 'connec': 1, 'ing': 2, 'an': 1, 'nntp': 1, 'server': 1, 'is': 1, 'orical': 1, 'curiosi': 1, 'han': 1, 'skills': 1, 'you': 2, 'likely': 1, 'apply': 1, 'direc': 1, 'ly': 1, 'mains': 1, 'ream': 1, 'programming': 2, 'career': 1, 'i’ve': 1, 'kep': 1, 'some': 1, 'hese': 1, 'quirky': 1, 'par': 3, 'hey': 2, 'work': 1, 'examples': 1, 'ory': 1, 'all': 3, 'people': 1, 'who': 3, 'helped': 1, 'ions': 1, 'see': 1, 'ligh': 1, 'day': 1, 'deserve': 1, 'many': 1, 'hanks': 2, 'before': 1, 'this': 1, 'ime': 1, 'around': 1, 'would': 2, 'icular': 1, 'like': 2, 'ex': 1, 'my': 2, 'mark': 1, 'powers': 1, 'paragon': 1, 'pa': 1, 'ience': 1, 'progress': 1, 'fal': 1, 'ered': 1, 'i’d': 1, 'also': 1, 'hank': 1, 'michael': 1, 'thomas': 1, 'done': 1, 'grea': 1, 'job': 1, 'checking': 1, 'echnical': 1, 'aspec': 1, '…': 1, 'poin': 1, '2–s': 1, 'yle': 1, 'prin': 1, 'emen': 1, 'had': 1, 'missed;': 1, 'hope': 2, 'go': 1, 'hem': 1, 'enjoy': 1, 'upda': 1, 'ed': 1, 'terry': 1, 'jones': 1, 'says': 1, 'abou': 1, 'song': 1, 'men': 1, 'ini': 1, 'ially': 1, '“obviously': 1, 'be': 2, 'full': 1, 'orches': 1, 'ra': 1}\n"
     ]
    }
   ],
   "source": [
    "sep = '\\nt\\'\\\"：,.()-/...!?'\n",
    "for ch in sep:\n",
    "    text = text.replace(ch,' ')\n",
    "words = text.lower().split(' ')   \n",
    "try:\n",
    "    \n",
    "    while True:words.remove('')\n",
    "except:\n",
    "    pass #### 空余\n",
    "\n",
    "# print(words)\n",
    "count = {}\n",
    "for word in words:\n",
    "    count.setdefault(word,0)\n",
    "    count[word] += 1\n",
    "print(count)"
   ]
  },
  {
   "cell_type": "code",
   "execution_count": 41,
   "metadata": {},
   "outputs": [
    {
     "name": "stdout",
     "output_type": "stream",
     "text": [
      "['py', 'hon', 'his', 'and', 'ill']\n"
     ]
    }
   ],
   "source": [
    "words_by_count = dict()\n",
    "for word in count.keys():\n",
    "    words_by_count.setdefault(count[word],[])\n",
    "    words_by_count[count[word]].append(word)\n",
    "print(words_by_count[5])"
   ]
  },
  {
   "cell_type": "code",
   "execution_count": 42,
   "metadata": {},
   "outputs": [
    {
     "data": {
      "text/plain": [
       "[1, 2, 3, 4, 5, 6, 7, 10, 11, 12, 18]"
      ]
     },
     "execution_count": 42,
     "metadata": {},
     "output_type": "execute_result"
    }
   ],
   "source": [
    "sorted(words_by_count.keys())"
   ]
  },
  {
   "cell_type": "code",
   "execution_count": 43,
   "metadata": {},
   "outputs": [
    {
     "name": "stdout",
     "output_type": "stream",
     "text": [
      "Count18: he \n",
      "\n",
      "Count12: of \n",
      "\n",
      "Count11: i \n",
      "\n",
      "Count10: s \n",
      "\n",
      "Count7: o as a \n",
      "\n",
      "Count6: has in \n",
      "\n",
      "Count5: py hon his and ill \n",
      "\n",
      "Count4: when edi been book \n",
      "\n",
      "Count3: comes her ion more h ou are par all who \n",
      "\n",
      "Count2: y ano one here end ” previous widespread so ioned well wi going prac hough even er ing you programming hey hanks would like my hope be \n",
      "\n",
      "Count1: to quo e old mon song: “here again will ever since 3 become much fully ransi py3 world there have changes packages ecosys em coming coding ices fashion where necessary or useful rewri en bu origins visible for example original ical came beginning millennium usene was semi use nowadays mos erne users probably haven’ heard four code projec chap 23 involves connec an nntp server is orical curiosi han skills likely apply direc ly mains ream career i’ve kep some hese quirky work examples ory people helped ions see ligh day deserve many before this ime around icular ex mark powers paragon pa ience progress fal ered i’d also hank michael thomas done grea job checking echnical aspec … poin 2–s yle prin emen had missed; go hem enjoy upda ed terry jones says abou song men ini ially “obviously full orches ra \n",
      "\n"
     ]
    }
   ],
   "source": [
    "for item in sorted(words_by_count.keys(),reverse = True):\n",
    "    print('Count{}:'.format(item),end=' ')\n",
    "    for word in words_by_count[item]:\n",
    "        print(word, end=' ')\n",
    "    print('\\n')"
   ]
  },
  {
   "cell_type": "code",
   "execution_count": 48,
   "metadata": {},
   "outputs": [
    {
     "name": "stdout",
     "output_type": "stream",
     "text": [
      "[1, 2, 3, 4, 5, 6, 7, 10, 11, 12, 18]\n",
      "[143, 27, 10, 4, 5, 2, 3, 1, 1, 1, 1]\n"
     ]
    }
   ],
   "source": [
    "new_count = []\n",
    "occurences = sorted(words_by_count.keys())\n",
    "for occurence in occurences:\n",
    "    new_count.append(len(words_by_count[occurence]))\n",
    "print(sorted(words_by_count.keys()))\n",
    "print(new_count)"
   ]
  },
  {
   "cell_type": "code",
   "execution_count": 51,
   "metadata": {},
   "outputs": [
    {
     "data": {
      "text/plain": [
       "[<matplotlib.lines.Line2D at 0x218d593a5f8>]"
      ]
     },
     "execution_count": 51,
     "metadata": {},
     "output_type": "execute_result"
    },
    {
     "data": {
      "image/png": "[encoded data removed]",
      "text/plain": [
       "<Figure size 432x288 with 1 Axes>"
      ]
     },
     "metadata": {
      "needs_background": "light"
     },
     "output_type": "display_data"
    }
   ],
   "source": [
    "import matplotlib.pyplot as plt\n",
    "\n",
    "plt.plot(occurences, new_count)"
   ]
  },
  {
   "cell_type": "code",
   "execution_count": null,
   "metadata": {},
   "outputs": [],
   "source": []
  }
 ],
 "metadata": {
  "kernelspec": {
   "display_name": "Python 3",
   "language": "python",
   "name": "python3"
  },
  "language_info": {
   "codemirror_mode": {
    "name": "ipython",
    "version": 3
   },
   "file_extension": ".py",
   "mimetype": "text/x-python",
   "name": "python",
   "nbconvert_exporter": "python",
   "pygments_lexer": "ipython3",
   "version": "3.7.3"
  }
 },
 "nbformat": 4,
 "nbformat_minor": 2
}

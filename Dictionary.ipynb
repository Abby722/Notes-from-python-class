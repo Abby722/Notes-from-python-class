{
 "cells": [
  {
   "cell_type": "code",
   "execution_count": 2,
   "metadata": {},
   "outputs": [
    {
     "name": "stdout",
     "output_type": "stream",
     "text": [
      "Pls input a nameAbby\n",
      "98\n"
     ]
    }
   ],
   "source": [
    "names = ['Tom', 'Abby','Lily','Sam']\n",
    "scores = [100, 98, 70, 85]\n",
    "name = input('Pls input a name')\n",
    "print(scores[names.index(name)])"
   ]
  },
  {
   "cell_type": "code",
   "execution_count": 5,
   "metadata": {},
   "outputs": [
    {
     "name": "stdout",
     "output_type": "stream",
     "text": [
      "Pls input a nameTom\n",
      "100\n"
     ]
    }
   ],
   "source": [
    "scores = {'Tom':100, 'Abby':98, 'Lily':80, 'Sam':85}\n",
    "name = input('Pls input a name')\n",
    "print(scores[name])"
   ]
  },
  {
   "cell_type": "code",
   "execution_count": 8,
   "metadata": {},
   "outputs": [],
   "source": [
    "scores = {}\n",
    "#scores = dict{} ## construct an empty dict\n",
    "scores['Tom'] = 100"
   ]
  },
  {
   "cell_type": "code",
   "execution_count": 9,
   "metadata": {},
   "outputs": [
    {
     "data": {
      "text/plain": [
       "{'Tom': 100}"
      ]
     },
     "execution_count": 9,
     "metadata": {},
     "output_type": "execute_result"
    }
   ],
   "source": [
    "scores"
   ]
  },
  {
   "cell_type": "code",
   "execution_count": 10,
   "metadata": {},
   "outputs": [
    {
     "data": {
      "text/plain": [
       "True"
      ]
     },
     "execution_count": 10,
     "metadata": {},
     "output_type": "execute_result"
    }
   ],
   "source": [
    "'Tom' in scores"
   ]
  },
  {
   "cell_type": "code",
   "execution_count": 11,
   "metadata": {},
   "outputs": [
    {
     "data": {
      "text/plain": [
       "False"
      ]
     },
     "execution_count": 11,
     "metadata": {},
     "output_type": "execute_result"
    }
   ],
   "source": [
    "'Lily' in scores"
   ]
  },
  {
   "cell_type": "code",
   "execution_count": 15,
   "metadata": {},
   "outputs": [
    {
     "name": "stdout",
     "output_type": "stream",
     "text": [
      "Pls input a name:Tom\n",
      "100\n"
     ]
    }
   ],
   "source": [
    "name = input('Pls input a name:')\n",
    "if name in scores:\n",
    "    print(scores[name])\n",
    "else:\n",
    "    print('Name not found')"
   ]
  },
  {
   "cell_type": "code",
   "execution_count": 16,
   "metadata": {},
   "outputs": [
    {
     "data": {
      "text/plain": [
       "{'Tom': 100}"
      ]
     },
     "execution_count": 16,
     "metadata": {},
     "output_type": "execute_result"
    }
   ],
   "source": [
    "s2 = scores\n",
    "s2"
   ]
  },
  {
   "cell_type": "code",
   "execution_count": 17,
   "metadata": {},
   "outputs": [],
   "source": [
    "s2['Ab'] = 99"
   ]
  },
  {
   "cell_type": "code",
   "execution_count": 18,
   "metadata": {},
   "outputs": [
    {
     "data": {
      "text/plain": [
       "{'Tom': 100, 'Ab': 99}"
      ]
     },
     "execution_count": 18,
     "metadata": {},
     "output_type": "execute_result"
    }
   ],
   "source": [
    "scores"
   ]
  },
  {
   "cell_type": "code",
   "execution_count": 21,
   "metadata": {},
   "outputs": [],
   "source": [
    "scores = {}.fromkeys(['zhangsan','lisi','wangwu','maliu'],100)"
   ]
  },
  {
   "cell_type": "code",
   "execution_count": 22,
   "metadata": {},
   "outputs": [
    {
     "data": {
      "text/plain": [
       "{'zhangsan': 100, 'lisi': 100, 'wangwu': 100, 'maliu': 100}"
      ]
     },
     "execution_count": 22,
     "metadata": {},
     "output_type": "execute_result"
    }
   ],
   "source": [
    "scores"
   ]
  },
  {
   "cell_type": "code",
   "execution_count": 2,
   "metadata": {},
   "outputs": [
    {
     "name": "stdout",
     "output_type": "stream",
     "text": [
      "{'a': 2, 'e': 5, 'i': 5, 'o': 1, 'u': 0}\n"
     ]
    }
   ],
   "source": [
    "str = 'hello, this is a test. I designed this test last night.'\n",
    "count = dict.fromkeys('aeiou',0)\n",
    "for ch in str:\n",
    "    if ch in 'aeiou':\n",
    "        count[ch] += 1\n",
    "print(count)"
   ]
  },
  {
   "cell_type": "code",
   "execution_count": 25,
   "metadata": {},
   "outputs": [
    {
     "name": "stdout",
     "output_type": "stream",
     "text": [
      "2\n"
     ]
    }
   ],
   "source": [
    "print(count.get('a'))"
   ]
  },
  {
   "cell_type": "code",
   "execution_count": 29,
   "metadata": {},
   "outputs": [
    {
     "ename": "SyntaxError",
     "evalue": "invalid syntax (<ipython-input-29-1eda62a22d07>, line 2)",
     "output_type": "error",
     "traceback": [
      "\u001b[1;36m  File \u001b[1;32m\"<ipython-input-29-1eda62a22d07>\"\u001b[1;36m, line \u001b[1;32m2\u001b[0m\n\u001b[1;33m    scores = dict{} ## construct an empty dict\u001b[0m\n\u001b[1;37m                 ^\u001b[0m\n\u001b[1;31mSyntaxError\u001b[0m\u001b[1;31m:\u001b[0m invalid syntax\n"
     ]
    }
   ],
   "source": [
    "#scores = {}\n",
    "scores = dict{} ## construct an empty dict\n",
    "scores['Tom'] = 100"
   ]
  },
  {
   "cell_type": "code",
   "execution_count": 30,
   "metadata": {},
   "outputs": [
    {
     "name": "stdout",
     "output_type": "stream",
     "text": [
      "Please input a name: zhangsan\n",
      "Please input a score100\n",
      "zhangsan's score is 100\n"
     ]
    }
   ],
   "source": [
    "student = dict.fromkeys(['name','score'])\n",
    "student['name'] = input('Please input a name: ')\n",
    "student['score'] = int(input('Please input a score'))\n",
    "print(\"{}'s score is {}\".format(student['name'],student['score']))"
   ]
  },
  {
   "cell_type": "code",
   "execution_count": 35,
   "metadata": {},
   "outputs": [
    {
     "name": "stdout",
     "output_type": "stream",
     "text": [
      "['san zhao', 'san qian', 'san sun', 'san li', 'san zhou', 'san wu', 'san zheng', 'san wang', 'si zhao', 'si qian', 'si sun', 'si li', 'si zhou', 'si wu', 'si zheng', 'si wang', 'wu zhao', 'wu qian', 'wu sun', 'wu li', 'wu zhou', 'wu wu', 'wu zheng', 'wu wang', 'liu zhao', 'liu qian', 'liu sun', 'liu li', 'liu zhou', 'liu wu', 'liu zheng', 'liu wang', 'jia zhao', 'jia qian', 'jia sun', 'jia li', 'jia zhou', 'jia wu', 'jia zheng', 'jia wang', 'yi zhao', 'yi qian', 'yi sun', 'yi li', 'yi zhou', 'yi wu', 'yi zheng', 'yi wang', 'bing zhao', 'bing qian', 'bing sun', 'bing li', 'bing zhou', 'bing wu', 'bing zheng', 'bing wang', 'ding zhao', 'ding qian', 'ding sun', 'ding li', 'ding zhou', 'ding wu', 'ding zheng', 'ding wang']\n"
     ]
    }
   ],
   "source": [
    "first_names = ['san','si','wu','liu','jia','yi','bing','ding']\n",
    "last_names = ['zhao','qian','sun','li','zhou','wu','zheng','wang']\n",
    "names = list()\n",
    "\n",
    "for first_name in first_names:\n",
    "    for last_name in last_names:\n",
    "        names.append(first_name + ' ' + last_name)\n",
    "        \n",
    "print(names)"
   ]
  },
  {
   "cell_type": "code",
   "execution_count": 36,
   "metadata": {},
   "outputs": [
    {
     "data": {
      "text/plain": [
       "64"
      ]
     },
     "execution_count": 36,
     "metadata": {},
     "output_type": "execute_result"
    }
   ],
   "source": [
    "len(names)"
   ]
  },
  {
   "cell_type": "code",
   "execution_count": 37,
   "metadata": {},
   "outputs": [
    {
     "data": {
      "text/plain": [
       "'bing li'"
      ]
     },
     "execution_count": 37,
     "metadata": {},
     "output_type": "execute_result"
    }
   ],
   "source": [
    "import random\n",
    "random.choice(names)"
   ]
  },
  {
   "cell_type": "code",
   "execution_count": 40,
   "metadata": {},
   "outputs": [
    {
     "name": "stdout",
     "output_type": "stream",
     "text": [
      "17 77 10 4 46 25 96 79 78 86 76 38 40 0 46 0 2 20 30 69 45 11 13 14 88 24 36 30 81 15 15 52 55 31 76 73 25 35 23 12 46 74 13 57 17 92 35 5 96 90 11 91 40 11 84 23 45 66 99 81 27 22 67 66 47 9 8 1 49 47 48 6 30 27 88 67 15 0 62 26 15 25 71 5 62 56 17 20 93 69 10 4 77 100 31 81 73 91 99 97 "
     ]
    }
   ],
   "source": [
    "for i in range(0,100):\n",
    "    score = random.randint(0,100)\n",
    "    print(score, end=' ')"
   ]
  },
  {
   "cell_type": "code",
   "execution_count": 44,
   "metadata": {},
   "outputs": [
    {
     "name": "stdout",
     "output_type": "stream",
     "text": [
      "65 72 97 57 56 55 61 70 80 91 58 100 92 85 87 92 52 84 78 43 100 90 100 50 100 100 79 83 70 92 84 51 83 100 81 96 55 93 100 90 100 55 63 80 93 69 62 100 83 78 65 80 48 100 100 86 76 85 65 90 100 67 95 72 50 60 72 32 89 59 86 20 98 89 46 55 72 79 96 45 27 59 77 65 100 100 63 81 52 91 86 84 82 46 100 81 88 53 76 100 "
     ]
    }
   ],
   "source": [
    "import math\n",
    "for i in range(0,100):\n",
    "    score = math.ceil(random.gauss(75,20))\n",
    "    if score > 100: score = 100\n",
    "    elif score < 0: score = 0\n",
    "    print(score, end=' ')\n"
   ]
  },
  {
   "cell_type": "code",
   "execution_count": 47,
   "metadata": {},
   "outputs": [
    {
     "name": "stdout",
     "output_type": "stream",
     "text": [
      "{'san zhao': {'Physics': 100, 'Math': 43, 'Python': 69}, 'san qian': {'Physics': 78, 'Math': 96, 'Python': 86}, 'san sun': {'Physics': 85, 'Math': 79, 'Python': 72}, 'san li': {'Physics': 65, 'Math': 98, 'Python': 91}, 'san zhou': {'Physics': 49, 'Math': 42, 'Python': 67}, 'san wu': {'Physics': 85, 'Math': 71, 'Python': 77}, 'san zheng': {'Physics': 86, 'Math': 65, 'Python': 87}, 'san wang': {'Physics': 45, 'Math': 93, 'Python': 45}, 'si zhao': {'Physics': 92, 'Math': 75, 'Python': 96}, 'si qian': {'Physics': 75, 'Math': 97, 'Python': 40}, 'si sun': {'Physics': 74, 'Math': 93, 'Python': 59}, 'si li': {'Physics': 86, 'Math': 94, 'Python': 53}, 'si zhou': {'Physics': 75, 'Math': 80, 'Python': 80}, 'si wu': {'Physics': 82, 'Math': 60, 'Python': 92}, 'si zheng': {'Physics': 84, 'Math': 79, 'Python': 63}, 'si wang': {'Physics': 67, 'Math': 57, 'Python': 59}, 'wu zhao': {'Physics': 48, 'Math': 100, 'Python': 91}, 'wu qian': {'Physics': 41, 'Math': 65, 'Python': 100}, 'wu sun': {'Physics': 42, 'Math': 67, 'Python': 57}, 'wu li': {'Physics': 78, 'Math': 46, 'Python': 35}, 'wu zhou': {'Physics': 39, 'Math': 91, 'Python': 77}, 'wu wu': {'Physics': 43, 'Math': 70, 'Python': 89}, 'wu zheng': {'Physics': 60, 'Math': 63, 'Python': 84}, 'wu wang': {'Physics': 81, 'Math': 96, 'Python': 73}, 'liu zhao': {'Physics': 55, 'Math': 29, 'Python': 93}, 'liu qian': {'Physics': 87, 'Math': 100, 'Python': 96}, 'liu sun': {'Physics': 37, 'Math': 67, 'Python': 75}, 'liu li': {'Physics': 100, 'Math': 62, 'Python': 53}, 'liu zhou': {'Physics': 71, 'Math': 84, 'Python': 78}, 'liu wu': {'Physics': 88, 'Math': 68, 'Python': 84}, 'liu zheng': {'Physics': 100, 'Math': 51, 'Python': 76}, 'liu wang': {'Physics': 83, 'Math': 100, 'Python': 57}, 'jia zhao': {'Physics': 66, 'Math': 79, 'Python': 57}, 'jia qian': {'Physics': 51, 'Math': 90, 'Python': 61}, 'jia sun': {'Physics': 65, 'Math': 85, 'Python': 52}, 'jia li': {'Physics': 95, 'Math': 72, 'Python': 100}, 'jia zhou': {'Physics': 85, 'Math': 68, 'Python': 99}, 'jia wu': {'Physics': 43, 'Math': 96, 'Python': 91}, 'jia zheng': {'Physics': 79, 'Math': 100, 'Python': 96}, 'jia wang': {'Physics': 51, 'Math': 100, 'Python': 100}, 'yi zhao': {'Physics': 84, 'Math': 57, 'Python': 59}, 'yi qian': {'Physics': 80, 'Math': 50, 'Python': 20}, 'yi sun': {'Physics': 100, 'Math': 78, 'Python': 77}, 'yi li': {'Physics': 90, 'Math': 73, 'Python': 70}, 'yi zhou': {'Physics': 77, 'Math': 100, 'Python': 73}, 'yi wu': {'Physics': 65, 'Math': 83, 'Python': 63}, 'yi zheng': {'Physics': 64, 'Math': 63, 'Python': 82}, 'yi wang': {'Physics': 74, 'Math': 71, 'Python': 54}, 'bing zhao': {'Physics': 58, 'Math': 100, 'Python': 65}, 'bing qian': {'Physics': 58, 'Math': 56, 'Python': 59}, 'bing sun': {'Physics': 80, 'Math': 54, 'Python': 69}, 'bing li': {'Physics': 100, 'Math': 65, 'Python': 80}, 'bing zhou': {'Physics': 94, 'Math': 50, 'Python': 88}, 'bing wu': {'Physics': 56, 'Math': 94, 'Python': 49}, 'bing zheng': {'Physics': 58, 'Math': 72, 'Python': 100}, 'bing wang': {'Physics': 43, 'Math': 100, 'Python': 63}, 'ding zhao': {'Physics': 75, 'Math': 60, 'Python': 36}, 'ding qian': {'Physics': 100, 'Math': 81, 'Python': 74}, 'ding sun': {'Physics': 75, 'Math': 98, 'Python': 62}, 'ding li': {'Physics': 60, 'Math': 26, 'Python': 65}, 'ding zhou': {'Physics': 94, 'Math': 100, 'Python': 64}, 'ding wu': {'Physics': 79, 'Math': 62, 'Python': 78}, 'ding zheng': {'Physics': 76, 'Math': 59, 'Python': 100}, 'ding wang': {'Physics': 56, 'Math': 59, 'Python': 35}}\n"
     ]
    }
   ],
   "source": [
    "score_db = {}\n",
    "score_template = {}.fromkeys(['Physics','Math','Python'])\n",
    "#score_template ### build a structure\n",
    "for name in names:\n",
    "    scores = score_template.copy()\n",
    "    \n",
    "    score = math.ceil(random.gauss(75,20))\n",
    "    if score > 100: score = 100\n",
    "    elif score < 0: score = 0\n",
    "    scores['Physics'] = score\n",
    "    \n",
    "    score = math.ceil(random.gauss(75,20))\n",
    "    if score > 100: score = 100\n",
    "    elif score < 0: score = 0\n",
    "    scores['Math'] = score\n",
    "    \n",
    "    score = math.ceil(random.gauss(75,20))\n",
    "    if score > 100: score = 100\n",
    "    elif score < 0: score = 0\n",
    "    scores['Python'] = score\n",
    "    \n",
    "    score_db[name] = scores\n",
    "    \n",
    "print(score_db)"
   ]
  },
  {
   "cell_type": "code",
   "execution_count": 49,
   "metadata": {},
   "outputs": [
    {
     "name": "stdout",
     "output_type": "stream",
     "text": [
      "7\n"
     ]
    }
   ],
   "source": [
    "def add(a,b):\n",
    "    return a + b\n",
    "\n",
    "print(add(3,4))"
   ]
  },
  {
   "cell_type": "code",
   "execution_count": 50,
   "metadata": {},
   "outputs": [
    {
     "name": "stdout",
     "output_type": "stream",
     "text": [
      "{'san zhao': {'Physics': 68, 'Math': 100, 'Python': 50}, 'san qian': {'Physics': 89, 'Math': 92, 'Python': 54}, 'san sun': {'Physics': 58, 'Math': 100, 'Python': 47}, 'san li': {'Physics': 38, 'Math': 83, 'Python': 95}, 'san zhou': {'Physics': 65, 'Math': 66, 'Python': 79}, 'san wu': {'Physics': 90, 'Math': 69, 'Python': 94}, 'san zheng': {'Physics': 92, 'Math': 75, 'Python': 61}, 'san wang': {'Physics': 82, 'Math': 26, 'Python': 64}, 'si zhao': {'Physics': 31, 'Math': 69, 'Python': 100}, 'si qian': {'Physics': 78, 'Math': 15, 'Python': 79}, 'si sun': {'Physics': 89, 'Math': 70, 'Python': 99}, 'si li': {'Physics': 82, 'Math': 100, 'Python': 100}, 'si zhou': {'Physics': 100, 'Math': 96, 'Python': 24}, 'si wu': {'Physics': 54, 'Math': 47, 'Python': 88}, 'si zheng': {'Physics': 100, 'Math': 92, 'Python': 100}, 'si wang': {'Physics': 56, 'Math': 76, 'Python': 66}, 'wu zhao': {'Physics': 69, 'Math': 90, 'Python': 96}, 'wu qian': {'Physics': 68, 'Math': 77, 'Python': 47}, 'wu sun': {'Physics': 62, 'Math': 80, 'Python': 71}, 'wu li': {'Physics': 61, 'Math': 56, 'Python': 83}, 'wu zhou': {'Physics': 55, 'Math': 78, 'Python': 79}, 'wu wu': {'Physics': 100, 'Math': 100, 'Python': 86}, 'wu zheng': {'Physics': 71, 'Math': 100, 'Python': 60}, 'wu wang': {'Physics': 86, 'Math': 50, 'Python': 51}, 'liu zhao': {'Physics': 56, 'Math': 60, 'Python': 83}, 'liu qian': {'Physics': 73, 'Math': 99, 'Python': 64}, 'liu sun': {'Physics': 81, 'Math': 78, 'Python': 46}, 'liu li': {'Physics': 66, 'Math': 98, 'Python': 46}, 'liu zhou': {'Physics': 63, 'Math': 100, 'Python': 54}, 'liu wu': {'Physics': 67, 'Math': 58, 'Python': 58}, 'liu zheng': {'Physics': 55, 'Math': 100, 'Python': 38}, 'liu wang': {'Physics': 73, 'Math': 81, 'Python': 63}, 'jia zhao': {'Physics': 76, 'Math': 79, 'Python': 63}, 'jia qian': {'Physics': 89, 'Math': 96, 'Python': 94}, 'jia sun': {'Physics': 72, 'Math': 51, 'Python': 87}, 'jia li': {'Physics': 94, 'Math': 67, 'Python': 80}, 'jia zhou': {'Physics': 77, 'Math': 83, 'Python': 69}, 'jia wu': {'Physics': 100, 'Math': 100, 'Python': 98}, 'jia zheng': {'Physics': 83, 'Math': 93, 'Python': 61}, 'jia wang': {'Physics': 78, 'Math': 82, 'Python': 83}, 'yi zhao': {'Physics': 72, 'Math': 91, 'Python': 53}, 'yi qian': {'Physics': 99, 'Math': 77, 'Python': 64}, 'yi sun': {'Physics': 74, 'Math': 89, 'Python': 74}, 'yi li': {'Physics': 58, 'Math': 84, 'Python': 72}, 'yi zhou': {'Physics': 80, 'Math': 46, 'Python': 67}, 'yi wu': {'Physics': 85, 'Math': 47, 'Python': 51}, 'yi zheng': {'Physics': 68, 'Math': 81, 'Python': 54}, 'yi wang': {'Physics': 71, 'Math': 81, 'Python': 63}, 'bing zhao': {'Physics': 31, 'Math': 67, 'Python': 80}, 'bing qian': {'Physics': 87, 'Math': 92, 'Python': 100}, 'bing sun': {'Physics': 85, 'Math': 100, 'Python': 62}, 'bing li': {'Physics': 98, 'Math': 78, 'Python': 48}, 'bing zhou': {'Physics': 66, 'Math': 100, 'Python': 97}, 'bing wu': {'Physics': 82, 'Math': 100, 'Python': 90}, 'bing zheng': {'Physics': 97, 'Math': 65, 'Python': 55}, 'bing wang': {'Physics': 87, 'Math': 71, 'Python': 81}, 'ding zhao': {'Physics': 73, 'Math': 71, 'Python': 100}, 'ding qian': {'Physics': 49, 'Math': 87, 'Python': 33}, 'ding sun': {'Physics': 82, 'Math': 54, 'Python': 78}, 'ding li': {'Physics': 63, 'Math': 76, 'Python': 66}, 'ding zhou': {'Physics': 70, 'Math': 75, 'Python': 86}, 'ding wu': {'Physics': 69, 'Math': 79, 'Python': 49}, 'ding zheng': {'Physics': 39, 'Math': 88, 'Python': 58}, 'ding wang': {'Physics': 60, 'Math': 100, 'Python': 91}}\n"
     ]
    }
   ],
   "source": [
    "def get_random_score():\n",
    "    score = math.ceil(random.gauss(75,20))\n",
    "    if score > 100: score = 100\n",
    "    elif score < 0: score = 0\n",
    "    return score\n",
    "    \n",
    "score_db = {}\n",
    "score_template = {}.fromkeys(['Physics','Math','Python'])\n",
    "for name in names:\n",
    "    scores = score_template.copy()\n",
    "    scores['Physics'] = get_random_score()\n",
    "    scores['Math'] = get_random_score()\n",
    "    scores['Python'] = get_random_score()\n",
    "    score_db[name] = scores\n",
    "    \n",
    "print(score_db)"
   ]
  },
  {
   "cell_type": "code",
   "execution_count": 51,
   "metadata": {},
   "outputs": [
    {
     "name": "stdout",
     "output_type": "stream",
     "text": [
      "{'bing li': {'Math': 61, 'Physics': 96, 'Python': 77},\n",
      " 'bing qian': {'Math': 70, 'Physics': 88, 'Python': 68},\n",
      " 'bing sun': {'Math': 36, 'Physics': 37, 'Python': 82},\n",
      " 'bing wang': {'Math': 24, 'Physics': 69, 'Python': 58},\n",
      " 'bing wu': {'Math': 33, 'Physics': 54, 'Python': 94},\n",
      " 'bing zhao': {'Math': 100, 'Physics': 79, 'Python': 86},\n",
      " 'bing zheng': {'Math': 59, 'Physics': 58, 'Python': 72},\n",
      " 'bing zhou': {'Math': 81, 'Physics': 75, 'Python': 83},\n",
      " 'ding li': {'Math': 47, 'Physics': 71, 'Python': 100},\n",
      " 'ding qian': {'Math': 68, 'Physics': 86, 'Python': 42},\n",
      " 'ding sun': {'Math': 62, 'Physics': 93, 'Python': 92},\n",
      " 'ding wang': {'Math': 76, 'Physics': 100, 'Python': 71},\n",
      " 'ding wu': {'Math': 72, 'Physics': 79, 'Python': 95},\n",
      " 'ding zhao': {'Math': 80, 'Physics': 92, 'Python': 82},\n",
      " 'ding zheng': {'Math': 80, 'Physics': 100, 'Python': 72},\n",
      " 'ding zhou': {'Math': 63, 'Physics': 47, 'Python': 64},\n",
      " 'jia li': {'Math': 98, 'Physics': 79, 'Python': 84},\n",
      " 'jia qian': {'Math': 100, 'Physics': 55, 'Python': 100},\n",
      " 'jia sun': {'Math': 74, 'Physics': 74, 'Python': 83},\n",
      " 'jia wang': {'Math': 76, 'Physics': 74, 'Python': 98},\n",
      " 'jia wu': {'Math': 76, 'Physics': 48, 'Python': 74},\n",
      " 'jia zhao': {'Math': 58, 'Physics': 62, 'Python': 84},\n",
      " 'jia zheng': {'Math': 66, 'Physics': 71, 'Python': 80},\n",
      " 'jia zhou': {'Math': 65, 'Physics': 40, 'Python': 45},\n",
      " 'liu li': {'Math': 62, 'Physics': 54, 'Python': 74},\n",
      " 'liu qian': {'Math': 65, 'Physics': 74, 'Python': 75},\n",
      " 'liu sun': {'Math': 65, 'Physics': 85, 'Python': 70},\n",
      " 'liu wang': {'Math': 57, 'Physics': 76, 'Python': 57},\n",
      " 'liu wu': {'Math': 45, 'Physics': 64, 'Python': 89},\n",
      " 'liu zhao': {'Math': 91, 'Physics': 40, 'Python': 95},\n",
      " 'liu zheng': {'Math': 58, 'Physics': 59, 'Python': 39},\n",
      " 'liu zhou': {'Math': 68, 'Physics': 47, 'Python': 100},\n",
      " 'san li': {'Math': 80, 'Physics': 79, 'Python': 86},\n",
      " 'san qian': {'Math': 72, 'Physics': 100, 'Python': 100},\n",
      " 'san sun': {'Math': 84, 'Physics': 43, 'Python': 81},\n",
      " 'san wang': {'Math': 91, 'Physics': 100, 'Python': 73},\n",
      " 'san wu': {'Math': 83, 'Physics': 72, 'Python': 87},\n",
      " 'san zhao': {'Math': 94, 'Physics': 66, 'Python': 81},\n",
      " 'san zheng': {'Math': 100, 'Physics': 100, 'Python': 68},\n",
      " 'san zhou': {'Math': 100, 'Physics': 98, 'Python': 51},\n",
      " 'si li': {'Math': 69, 'Physics': 75, 'Python': 80},\n",
      " 'si qian': {'Math': 93, 'Physics': 65, 'Python': 41},\n",
      " 'si sun': {'Math': 80, 'Physics': 51, 'Python': 43},\n",
      " 'si wang': {'Math': 80, 'Physics': 43, 'Python': 100},\n",
      " 'si wu': {'Math': 78, 'Physics': 71, 'Python': 77},\n",
      " 'si zhao': {'Math': 79, 'Physics': 85, 'Python': 62},\n",
      " 'si zheng': {'Math': 80, 'Physics': 53, 'Python': 61},\n",
      " 'si zhou': {'Math': 64, 'Physics': 100, 'Python': 83},\n",
      " 'wu li': {'Math': 86, 'Physics': 59, 'Python': 93},\n",
      " 'wu qian': {'Math': 81, 'Physics': 60, 'Python': 59},\n",
      " 'wu sun': {'Math': 96, 'Physics': 39, 'Python': 65},\n",
      " 'wu wang': {'Math': 59, 'Physics': 76, 'Python': 67},\n",
      " 'wu wu': {'Math': 66, 'Physics': 63, 'Python': 63},\n",
      " 'wu zhao': {'Math': 100, 'Physics': 70, 'Python': 92},\n",
      " 'wu zheng': {'Math': 74, 'Physics': 100, 'Python': 82},\n",
      " 'wu zhou': {'Math': 73, 'Physics': 32, 'Python': 86},\n",
      " 'yi li': {'Math': 62, 'Physics': 93, 'Python': 32},\n",
      " 'yi qian': {'Math': 51, 'Physics': 38, 'Python': 100},\n",
      " 'yi sun': {'Math': 74, 'Physics': 82, 'Python': 67},\n",
      " 'yi wang': {'Math': 48, 'Physics': 76, 'Python': 100},\n",
      " 'yi wu': {'Math': 68, 'Physics': 90, 'Python': 78},\n",
      " 'yi zhao': {'Math': 44, 'Physics': 52, 'Python': 56},\n",
      " 'yi zheng': {'Math': 82, 'Physics': 84, 'Python': 62},\n",
      " 'yi zhou': {'Math': 92, 'Physics': 50, 'Python': 84}}\n"
     ]
    }
   ],
   "source": [
    "import pprint\n",
    "def get_random_score():\n",
    "    score = math.ceil(random.gauss(75,20))\n",
    "    if score > 100: score = 100\n",
    "    elif score < 0: score = 0\n",
    "    return score\n",
    "    \n",
    "score_db = {}\n",
    "score_template = {}.fromkeys(['Physics','Math','Python'])\n",
    "for name in names:\n",
    "    scores = score_template.copy()\n",
    "    scores['Physics'] = get_random_score()\n",
    "    scores['Math'] = get_random_score()\n",
    "    scores['Python'] = get_random_score()\n",
    "    score_db[name] = scores\n",
    "    \n",
    "pprint.pprint(score_db)"
   ]
  },
  {
   "cell_type": "code",
   "execution_count": 55,
   "metadata": {},
   "outputs": [
    {
     "name": "stdout",
     "output_type": "stream",
     "text": [
      "Please input a name: san zhou\n",
      "Physics: 68\n",
      "Math: 60\n",
      "Python: 29\n",
      "Total: 157\n"
     ]
    }
   ],
   "source": [
    "import pprint\n",
    "def get_random_score():\n",
    "    score = math.ceil(random.gauss(75,20))\n",
    "    if score > 100: score = 100\n",
    "    elif score < 0: score = 0\n",
    "    return score\n",
    "    \n",
    "score_db = {}\n",
    "score_template = {}.fromkeys(['Physics','Math','Python'])\n",
    "for name in names:\n",
    "    scores = score_template.copy()\n",
    "    scores['Physics'] = get_random_score()\n",
    "    scores['Math'] = get_random_score()\n",
    "    scores['Python'] = get_random_score()\n",
    "    score_db[name] = scores\n",
    "    \n",
    "#pprint.pprint(score_db)\n",
    "name = input('Please input a name: ')\n",
    "if name in score_db:\n",
    "    print('Physics:', score_db[name]['Physics'])\n",
    "    print('Math:', score_db[name]['Math'])\n",
    "    print('Python:', score_db[name]['Python'])\n",
    "    print('Total:', score_db[name]['Physics'] +\\\n",
    "          score_db[name]['Math']+\\\n",
    "          score_db[name]['Python'])\n",
    "else:\n",
    "    print('Not found.')\n"
   ]
  },
  {
   "cell_type": "code",
   "execution_count": 58,
   "metadata": {},
   "outputs": [
    {
     "name": "stdout",
     "output_type": "stream",
     "text": [
      "Name:  san zhao\n",
      "Physics: 67 Math: 70 Python: 80 Total: 217\n",
      "Name:  san qian\n",
      "Physics: 72 Math: 86 Python: 73 Total: 231\n",
      "Name:  san sun\n",
      "Physics: 100 Math: 83 Python: 62 Total: 245\n",
      "Name:  san li\n",
      "Physics: 55 Math: 66 Python: 44 Total: 165\n",
      "Name:  san zhou\n",
      "Physics: 68 Math: 60 Python: 29 Total: 157\n",
      "Name:  san wu\n",
      "Physics: 40 Math: 63 Python: 91 Total: 194\n",
      "Name:  san zheng\n",
      "Physics: 70 Math: 76 Python: 51 Total: 197\n",
      "Name:  san wang\n",
      "Physics: 76 Math: 100 Python: 80 Total: 256\n",
      "Name:  si zhao\n",
      "Physics: 72 Math: 65 Python: 87 Total: 224\n",
      "Name:  si qian\n",
      "Physics: 97 Math: 62 Python: 79 Total: 238\n",
      "Name:  si sun\n",
      "Physics: 98 Math: 71 Python: 80 Total: 249\n",
      "Name:  si li\n",
      "Physics: 74 Math: 80 Python: 90 Total: 244\n",
      "Name:  si zhou\n",
      "Physics: 94 Math: 75 Python: 79 Total: 248\n",
      "Name:  si wu\n",
      "Physics: 100 Math: 100 Python: 68 Total: 268\n",
      "Name:  si zheng\n",
      "Physics: 100 Math: 88 Python: 63 Total: 251\n",
      "Name:  si wang\n",
      "Physics: 78 Math: 58 Python: 84 Total: 220\n",
      "Name:  wu zhao\n",
      "Physics: 75 Math: 27 Python: 100 Total: 202\n",
      "Name:  wu qian\n",
      "Physics: 74 Math: 62 Python: 74 Total: 210\n",
      "Name:  wu sun\n",
      "Physics: 55 Math: 71 Python: 100 Total: 226\n",
      "Name:  wu li\n",
      "Physics: 98 Math: 63 Python: 88 Total: 249\n",
      "Name:  wu zhou\n",
      "Physics: 45 Math: 75 Python: 64 Total: 184\n",
      "Name:  wu wu\n",
      "Physics: 77 Math: 98 Python: 71 Total: 246\n",
      "Name:  wu zheng\n",
      "Physics: 74 Math: 63 Python: 78 Total: 215\n",
      "Name:  wu wang\n",
      "Physics: 82 Math: 64 Python: 92 Total: 238\n",
      "Name:  liu zhao\n",
      "Physics: 51 Math: 90 Python: 91 Total: 232\n",
      "Name:  liu qian\n",
      "Physics: 100 Math: 75 Python: 84 Total: 259\n",
      "Name:  liu sun\n",
      "Physics: 57 Math: 48 Python: 70 Total: 175\n",
      "Name:  liu li\n",
      "Physics: 76 Math: 69 Python: 72 Total: 217\n",
      "Name:  liu zhou\n",
      "Physics: 90 Math: 43 Python: 64 Total: 197\n",
      "Name:  liu wu\n",
      "Physics: 72 Math: 56 Python: 78 Total: 206\n",
      "Name:  liu zheng\n",
      "Physics: 61 Math: 72 Python: 79 Total: 212\n",
      "Name:  liu wang\n",
      "Physics: 39 Math: 94 Python: 77 Total: 210\n",
      "Name:  jia zhao\n",
      "Physics: 100 Math: 59 Python: 40 Total: 199\n",
      "Name:  jia qian\n",
      "Physics: 62 Math: 65 Python: 57 Total: 184\n",
      "Name:  jia sun\n",
      "Physics: 96 Math: 69 Python: 99 Total: 264\n",
      "Name:  jia li\n",
      "Physics: 81 Math: 74 Python: 100 Total: 255\n",
      "Name:  jia zhou\n",
      "Physics: 100 Math: 71 Python: 75 Total: 246\n",
      "Name:  jia wu\n",
      "Physics: 95 Math: 64 Python: 68 Total: 227\n",
      "Name:  jia zheng\n",
      "Physics: 66 Math: 63 Python: 100 Total: 229\n",
      "Name:  jia wang\n",
      "Physics: 68 Math: 90 Python: 88 Total: 246\n",
      "Name:  yi zhao\n",
      "Physics: 96 Math: 93 Python: 50 Total: 239\n",
      "Name:  yi qian\n",
      "Physics: 100 Math: 75 Python: 86 Total: 261\n",
      "Name:  yi sun\n",
      "Physics: 79 Math: 95 Python: 88 Total: 262\n",
      "Name:  yi li\n",
      "Physics: 100 Math: 92 Python: 69 Total: 261\n",
      "Name:  yi zhou\n",
      "Physics: 72 Math: 78 Python: 95 Total: 245\n",
      "Name:  yi wu\n",
      "Physics: 63 Math: 53 Python: 100 Total: 216\n",
      "Name:  yi zheng\n",
      "Physics: 80 Math: 77 Python: 75 Total: 232\n",
      "Name:  yi wang\n",
      "Physics: 70 Math: 68 Python: 64 Total: 202\n",
      "Name:  bing zhao\n",
      "Physics: 81 Math: 60 Python: 94 Total: 235\n",
      "Name:  bing qian\n",
      "Physics: 28 Math: 98 Python: 80 Total: 206\n",
      "Name:  bing sun\n",
      "Physics: 82 Math: 46 Python: 97 Total: 225\n",
      "Name:  bing li\n",
      "Physics: 91 Math: 28 Python: 58 Total: 177\n",
      "Name:  bing zhou\n",
      "Physics: 72 Math: 67 Python: 76 Total: 215\n",
      "Name:  bing wu\n",
      "Physics: 100 Math: 99 Python: 85 Total: 284\n",
      "Name:  bing zheng\n",
      "Physics: 37 Math: 45 Python: 100 Total: 182\n",
      "Name:  bing wang\n",
      "Physics: 74 Math: 76 Python: 91 Total: 241\n",
      "Name:  ding zhao\n",
      "Physics: 46 Math: 57 Python: 100 Total: 203\n",
      "Name:  ding qian\n",
      "Physics: 68 Math: 31 Python: 82 Total: 181\n",
      "Name:  ding sun\n",
      "Physics: 85 Math: 46 Python: 61 Total: 192\n",
      "Name:  ding li\n",
      "Physics: 55 Math: 65 Python: 41 Total: 161\n",
      "Name:  ding zhou\n",
      "Physics: 91 Math: 100 Python: 79 Total: 270\n",
      "Name:  ding wu\n",
      "Physics: 54 Math: 96 Python: 82 Total: 232\n",
      "Name:  ding zheng\n",
      "Physics: 82 Math: 86 Python: 57 Total: 225\n",
      "Name:  ding wang\n",
      "Physics: 89 Math: 100 Python: 82 Total: 271\n"
     ]
    }
   ],
   "source": [
    "for name in score_db.keys():\n",
    "    print('Name: ',name)\n",
    "    print('Physics:', score_db[name]['Physics'], end=' ')\n",
    "    print('Math:', score_db[name]['Math'], end=' ')\n",
    "    print('Python:', score_db[name]['Python'], end=' ')\n",
    "    print('Total:', score_db[name]['Physics'] +\\\n",
    "          score_db[name]['Math']+\\\n",
    "          score_db[name]['Python'],)"
   ]
  },
  {
   "cell_type": "code",
   "execution_count": 67,
   "metadata": {},
   "outputs": [
    {
     "name": "stdout",
     "output_type": "stream",
     "text": [
      "Name\t\tPhysics\tMath\tPython\tTotal\t\n",
      "san zhao      \t67\t70\t80\t217\n",
      "san qian      \t72\t86\t73\t231\n",
      "san sun       \t100\t83\t62\t245\n",
      "san li        \t55\t66\t44\t165\n",
      "san zhou      \t68\t60\t29\t157\n",
      "san wu        \t40\t63\t91\t194\n",
      "san zheng     \t70\t76\t51\t197\n",
      "san wang      \t76\t100\t80\t256\n",
      "si zhao       \t72\t65\t87\t224\n",
      "si qian       \t97\t62\t79\t238\n",
      "si sun        \t98\t71\t80\t249\n",
      "si li         \t74\t80\t90\t244\n",
      "si zhou       \t94\t75\t79\t248\n",
      "si wu         \t100\t100\t68\t268\n",
      "si zheng      \t100\t88\t63\t251\n",
      "si wang       \t78\t58\t84\t220\n",
      "wu zhao       \t75\t27\t100\t202\n",
      "wu qian       \t74\t62\t74\t210\n",
      "wu sun        \t55\t71\t100\t226\n",
      "wu li         \t98\t63\t88\t249\n",
      "wu zhou       \t45\t75\t64\t184\n",
      "wu wu         \t77\t98\t71\t246\n",
      "wu zheng      \t74\t63\t78\t215\n",
      "wu wang       \t82\t64\t92\t238\n",
      "liu zhao      \t51\t90\t91\t232\n",
      "liu qian      \t100\t75\t84\t259\n",
      "liu sun       \t57\t48\t70\t175\n",
      "liu li        \t76\t69\t72\t217\n",
      "liu zhou      \t90\t43\t64\t197\n",
      "liu wu        \t72\t56\t78\t206\n",
      "liu zheng     \t61\t72\t79\t212\n",
      "liu wang      \t39\t94\t77\t210\n",
      "jia zhao      \t100\t59\t40\t199\n",
      "jia qian      \t62\t65\t57\t184\n",
      "jia sun       \t96\t69\t99\t264\n",
      "jia li        \t81\t74\t100\t255\n",
      "jia zhou      \t100\t71\t75\t246\n",
      "jia wu        \t95\t64\t68\t227\n",
      "jia zheng     \t66\t63\t100\t229\n",
      "jia wang      \t68\t90\t88\t246\n",
      "yi zhao       \t96\t93\t50\t239\n",
      "yi qian       \t100\t75\t86\t261\n",
      "yi sun        \t79\t95\t88\t262\n",
      "yi li         \t100\t92\t69\t261\n",
      "yi zhou       \t72\t78\t95\t245\n",
      "yi wu         \t63\t53\t100\t216\n",
      "yi zheng      \t80\t77\t75\t232\n",
      "yi wang       \t70\t68\t64\t202\n",
      "bing zhao     \t81\t60\t94\t235\n",
      "bing qian     \t28\t98\t80\t206\n",
      "bing sun      \t82\t46\t97\t225\n",
      "bing li       \t91\t28\t58\t177\n",
      "bing zhou     \t72\t67\t76\t215\n",
      "bing wu       \t100\t99\t85\t284\n",
      "bing zheng    \t37\t45\t100\t182\n",
      "bing wang     \t74\t76\t91\t241\n",
      "ding zhao     \t46\t57\t100\t203\n",
      "ding qian     \t68\t31\t82\t181\n",
      "ding sun      \t85\t46\t61\t192\n",
      "ding li       \t55\t65\t41\t161\n",
      "ding zhou     \t91\t100\t79\t270\n",
      "ding wu       \t54\t96\t82\t232\n",
      "ding zheng    \t82\t86\t57\t225\n",
      "ding wang     \t89\t100\t82\t271\n"
     ]
    }
   ],
   "source": [
    "print('Name\\t\\tPhysics\\tMath\\tPython\\tTotal\\t')\n",
    "for name in score_db.keys():\n",
    "    print('{:<14}'.format(name),end='\\t')\n",
    "    print(score_db[name]['Physics'], end='\\t')\n",
    "    print(score_db[name]['Math'], end='\\t')\n",
    "    print(score_db[name]['Python'], end='\\t')\n",
    "    print(score_db[name]['Physics'] +\\\n",
    "          score_db[name]['Math']+\\\n",
    "          score_db[name]['Python'],)"
   ]
  },
  {
   "cell_type": "code",
   "execution_count": 75,
   "metadata": {},
   "outputs": [
    {
     "name": "stdout",
     "output_type": "stream",
     "text": [
      "bing wu       \t100\t99\t85\t284\n",
      "ding wang     \t89\t100\t82\t271\n",
      "ding zhou     \t91\t100\t79\t270\n",
      "si wu         \t100\t100\t68\t268\n",
      "jia sun       \t96\t69\t99\t264\n",
      "yi sun        \t79\t95\t88\t262\n",
      "yi qian       \t100\t75\t86\t261\n",
      "yi li         \t100\t92\t69\t261\n",
      "liu qian      \t100\t75\t84\t259\n",
      "san wang      \t76\t100\t80\t256\n",
      "jia li        \t81\t74\t100\t255\n",
      "si zheng      \t100\t88\t63\t251\n",
      "si sun        \t98\t71\t80\t249\n",
      "wu li         \t98\t63\t88\t249\n",
      "si zhou       \t94\t75\t79\t248\n",
      "wu wu         \t77\t98\t71\t246\n",
      "jia zhou      \t100\t71\t75\t246\n",
      "jia wang      \t68\t90\t88\t246\n",
      "san sun       \t100\t83\t62\t245\n",
      "yi zhou       \t72\t78\t95\t245\n",
      "si li         \t74\t80\t90\t244\n",
      "bing wang     \t74\t76\t91\t241\n",
      "yi zhao       \t96\t93\t50\t239\n",
      "si qian       \t97\t62\t79\t238\n",
      "wu wang       \t82\t64\t92\t238\n",
      "bing zhao     \t81\t60\t94\t235\n",
      "liu zhao      \t51\t90\t91\t232\n",
      "yi zheng      \t80\t77\t75\t232\n",
      "ding wu       \t54\t96\t82\t232\n",
      "san qian      \t72\t86\t73\t231\n",
      "jia zheng     \t66\t63\t100\t229\n",
      "jia wu        \t95\t64\t68\t227\n",
      "wu sun        \t55\t71\t100\t226\n",
      "bing sun      \t82\t46\t97\t225\n",
      "ding zheng    \t82\t86\t57\t225\n",
      "si zhao       \t72\t65\t87\t224\n",
      "si wang       \t78\t58\t84\t220\n",
      "san zhao      \t67\t70\t80\t217\n",
      "liu li        \t76\t69\t72\t217\n",
      "yi wu         \t63\t53\t100\t216\n",
      "wu zheng      \t74\t63\t78\t215\n",
      "bing zhou     \t72\t67\t76\t215\n",
      "liu zheng     \t61\t72\t79\t212\n",
      "wu qian       \t74\t62\t74\t210\n",
      "liu wang      \t39\t94\t77\t210\n",
      "liu wu        \t72\t56\t78\t206\n",
      "bing qian     \t28\t98\t80\t206\n",
      "ding zhao     \t46\t57\t100\t203\n",
      "wu zhao       \t75\t27\t100\t202\n",
      "yi wang       \t70\t68\t64\t202\n",
      "jia zhao      \t100\t59\t40\t199\n",
      "san zheng     \t70\t76\t51\t197\n",
      "liu zhou      \t90\t43\t64\t197\n",
      "san wu        \t40\t63\t91\t194\n",
      "ding sun      \t85\t46\t61\t192\n",
      "wu zhou       \t45\t75\t64\t184\n",
      "jia qian      \t62\t65\t57\t184\n",
      "bing zheng    \t37\t45\t100\t182\n",
      "ding qian     \t68\t31\t82\t181\n",
      "bing li       \t91\t28\t58\t177\n",
      "liu sun       \t57\t48\t70\t175\n",
      "san li        \t55\t66\t44\t165\n",
      "ding li       \t55\t65\t41\t161\n",
      "san zhou      \t68\t60\t29\t157\n"
     ]
    }
   ],
   "source": [
    "def total(item):\n",
    "    return item[1]['Physics']+item[1]['Math']+item[1]['Python']\n",
    "items = score_db.items()\n",
    "sorted_scores = sorted(items, key = total, reverse = True)\n",
    "\n",
    "for item in sorted_scores:\n",
    "    print('{:<14}'.format(item[0]),end='\\t')\n",
    "    print(item[1]['Physics'], end='\\t')\n",
    "    print(item[1]['Math'], end='\\t')\n",
    "    print(item[1]['Python'], end='\\t')\n",
    "    print(item[1]['Physics'] +\\\n",
    "          item[1]['Math']+\\\n",
    "          item[1]['Python'],)"
   ]
  },
  {
   "cell_type": "code",
   "execution_count": null,
   "metadata": {},
   "outputs": [],
   "source": []
  }
 ],
 "metadata": {
  "kernelspec": {
   "display_name": "Python 3",
   "language": "python",
   "name": "python3"
  },
  "language_info": {
   "codemirror_mode": {
    "name": "ipython",
    "version": 3
   },
   "file_extension": ".py",
   "mimetype": "text/x-python",
   "name": "python",
   "nbconvert_exporter": "python",
   "pygments_lexer": "ipython3",
   "version": "3.7.3"
  }
 },
 "nbformat": 4,
 "nbformat_minor": 2
}

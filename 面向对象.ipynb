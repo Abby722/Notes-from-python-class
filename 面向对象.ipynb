{
 "cells": [
  {
   "cell_type": "code",
   "execution_count": 3,
   "metadata": {},
   "outputs": [
    {
     "name": "stdout",
     "output_type": "stream",
     "text": [
      "Hello, I'm Zhang San\n",
      "Hello, I'm Li Si\n"
     ]
    }
   ],
   "source": [
    "\n",
    "        \n",
    "zs = Person()\n",
    "zs.set_name(\"Zhang San\")\n",
    "zs.greet()\n",
    "ls = Person()\n",
    "ls.set_name(\"Li Si\")\n",
    "ls.greet()"
   ]
  },
  {
   "cell_type": "code",
   "execution_count": 4,
   "metadata": {},
   "outputs": [
    {
     "ename": "SyntaxError",
     "evalue": "invalid syntax (<ipython-input-4-2bdf08b48c9f>, line 2)",
     "output_type": "error",
     "traceback": [
      "\u001b[1;36m  File \u001b[1;32m\"<ipython-input-4-2bdf08b48c9f>\"\u001b[1;36m, line \u001b[1;32m2\u001b[0m\n\u001b[1;33m    def greet()\u001b[0m\n\u001b[1;37m               ^\u001b[0m\n\u001b[1;31mSyntaxError\u001b[0m\u001b[1;31m:\u001b[0m invalid syntax\n"
     ]
    }
   ],
   "source": []
  },
  {
   "cell_type": "code",
   "execution_count": 6,
   "metadata": {},
   "outputs": [
    {
     "ename": "TypeError",
     "evalue": "Person() takes no arguments",
     "output_type": "error",
     "traceback": [
      "\u001b[1;31m---------------------------------------------------------------------------\u001b[0m",
      "\u001b[1;31mTypeError\u001b[0m                                 Traceback (most recent call last)",
      "\u001b[1;32m<ipython-input-6-9b219db1d83d>\u001b[0m in \u001b[0;36m<module>\u001b[1;34m\u001b[0m\n\u001b[1;32m----> 1\u001b[1;33m \u001b[0mzs\u001b[0m \u001b[1;33m=\u001b[0m \u001b[0mPerson\u001b[0m\u001b[1;33m(\u001b[0m\u001b[1;34m'Zhang San'\u001b[0m\u001b[1;33m)\u001b[0m\u001b[1;33m\u001b[0m\u001b[1;33m\u001b[0m\u001b[0m\n\u001b[0m\u001b[0;32m      2\u001b[0m \u001b[0mls\u001b[0m \u001b[1;33m=\u001b[0m \u001b[0mPerson\u001b[0m\u001b[1;33m(\u001b[0m\u001b[1;34m\"Li Si\"\u001b[0m\u001b[1;33m)\u001b[0m\u001b[1;33m\u001b[0m\u001b[1;33m\u001b[0m\u001b[0m\n\u001b[0;32m      3\u001b[0m \u001b[0mzs\u001b[0m\u001b[1;33m.\u001b[0m\u001b[0mgreet\u001b[0m\u001b[1;33m(\u001b[0m\u001b[1;33m)\u001b[0m\u001b[1;33m\u001b[0m\u001b[1;33m\u001b[0m\u001b[0m\n\u001b[0;32m      4\u001b[0m \u001b[0mls\u001b[0m\u001b[1;33m.\u001b[0m\u001b[0mgreet\u001b[0m\u001b[1;33m(\u001b[0m\u001b[1;33m)\u001b[0m\u001b[1;33m\u001b[0m\u001b[1;33m\u001b[0m\u001b[0m\n",
      "\u001b[1;31mTypeError\u001b[0m: Person() takes no arguments"
     ]
    }
   ],
   "source": []
  },
  {
   "cell_type": "code",
   "execution_count": 16,
   "metadata": {},
   "outputs": [
    {
     "name": "stdout",
     "output_type": "stream",
     "text": [
      "Total number of person: 1\n",
      "Hello, I'm Zhang San\n",
      "Total number of person: 2\n"
     ]
    }
   ],
   "source": [
    "class Person:    \n",
    "    count = 0\n",
    "    \n",
    "    def __init__(self, name = None):\n",
    "        set_name(name)\n",
    "        Person.count += 1\n",
    "        print('Total number of person: {}'.format(Person.count))\n",
    "        \n",
    "    def set_name(self, name):\n",
    "        #assert(isinstance(name, str)) choose one of them \n",
    "        if isinstance(name, str):\n",
    "            self.__name = name\n",
    "        else:\n",
    "            print('Not a valid name.')\n",
    "        \n",
    "    def get_name(self):\n",
    "        return self.__name\n",
    "    \n",
    "    def greet(self):\n",
    "        print(\"Hello, I'm {}\".format(self.__name))\n",
    "\n",
    "zs = Person('Zhang San')\n",
    "zs.greet()\n",
    "wv = Person()"
   ]
  },
  {
   "cell_type": "code",
   "execution_count": 17,
   "metadata": {},
   "outputs": [],
   "source": [
    "zs.setname = 1"
   ]
  },
  {
   "cell_type": "code",
   "execution_count": 13,
   "metadata": {},
   "outputs": [
    {
     "name": "stdout",
     "output_type": "stream",
     "text": [
      "Hello, I'm test\n"
     ]
    }
   ],
   "source": [
    "zs.greet()"
   ]
  },
  {
   "cell_type": "code",
   "execution_count": 27,
   "metadata": {},
   "outputs": [
    {
     "name": "stdout",
     "output_type": "stream",
     "text": [
      "Hello, I'm Zhang San.\n"
     ]
    },
    {
     "ename": "AttributeError",
     "evalue": "'Person' object has no attribute '_Person__great_once'",
     "output_type": "error",
     "traceback": [
      "\u001b[1;31m---------------------------------------------------------------------------\u001b[0m",
      "\u001b[1;31mAttributeError\u001b[0m                            Traceback (most recent call last)",
      "\u001b[1;32m<ipython-input-27-007c2f794082>\u001b[0m in \u001b[0;36m<module>\u001b[1;34m\u001b[0m\n\u001b[0;32m     25\u001b[0m \u001b[1;33m\u001b[0m\u001b[0m\n\u001b[0;32m     26\u001b[0m \u001b[0mzs\u001b[0m \u001b[1;33m=\u001b[0m \u001b[0mPerson\u001b[0m\u001b[1;33m(\u001b[0m\u001b[1;34m'Zhang San'\u001b[0m\u001b[1;33m)\u001b[0m\u001b[1;33m\u001b[0m\u001b[1;33m\u001b[0m\u001b[0m\n\u001b[1;32m---> 27\u001b[1;33m \u001b[0mzs\u001b[0m\u001b[1;33m.\u001b[0m\u001b[0mgreet\u001b[0m\u001b[1;33m(\u001b[0m\u001b[1;33m)\u001b[0m\u001b[1;33m\u001b[0m\u001b[1;33m\u001b[0m\u001b[0m\n\u001b[0m\u001b[0;32m     28\u001b[0m \u001b[0mprint\u001b[0m\u001b[1;33m(\u001b[0m\u001b[0mzs\u001b[0m\u001b[1;33m.\u001b[0m\u001b[0m__name\u001b[0m\u001b[1;33m)\u001b[0m\u001b[1;33m\u001b[0m\u001b[1;33m\u001b[0m\u001b[0m\n\u001b[0;32m     29\u001b[0m \u001b[0mzs\u001b[0m\u001b[1;33m.\u001b[0m\u001b[0m__dict__\u001b[0m\u001b[1;33m\u001b[0m\u001b[1;33m\u001b[0m\u001b[0m\n",
      "\u001b[1;32m<ipython-input-27-007c2f794082>\u001b[0m in \u001b[0;36mgreet\u001b[1;34m(self)\u001b[0m\n\u001b[0;32m     21\u001b[0m     \u001b[1;32mdef\u001b[0m \u001b[0mgreet\u001b[0m\u001b[1;33m(\u001b[0m\u001b[0mself\u001b[0m\u001b[1;33m)\u001b[0m\u001b[1;33m:\u001b[0m\u001b[1;33m\u001b[0m\u001b[1;33m\u001b[0m\u001b[0m\n\u001b[0;32m     22\u001b[0m         \u001b[0mself\u001b[0m\u001b[1;33m.\u001b[0m\u001b[0m__greet_once\u001b[0m\u001b[1;33m(\u001b[0m\u001b[1;33m)\u001b[0m\u001b[1;33m\u001b[0m\u001b[1;33m\u001b[0m\u001b[0m\n\u001b[1;32m---> 23\u001b[1;33m         \u001b[0mself\u001b[0m\u001b[1;33m.\u001b[0m\u001b[0m__great_once\u001b[0m\u001b[1;33m(\u001b[0m\u001b[1;33m)\u001b[0m\u001b[1;33m\u001b[0m\u001b[1;33m\u001b[0m\u001b[0m\n\u001b[0m\u001b[0;32m     24\u001b[0m \u001b[1;33m\u001b[0m\u001b[0m\n\u001b[0;32m     25\u001b[0m \u001b[1;33m\u001b[0m\u001b[0m\n",
      "\u001b[1;31mAttributeError\u001b[0m: 'Person' object has no attribute '_Person__great_once'"
     ]
    }
   ],
   "source": [
    "class Person:    \n",
    "    \n",
    "    def __init__(self, name = None):\n",
    "        self.__name = name\n",
    "        \n",
    "        \n",
    "    def set_name(self, name):\n",
    "        #assert(isinstance(name, str)) choose one of them \n",
    "        if isinstance(name, str):\n",
    "            self.__name = name\n",
    "        else:\n",
    "            print('Not a valid name.')\n",
    "        \n",
    "    def get_name(self):\n",
    "        return self.__name\n",
    "    \n",
    "        \n",
    "    def __greet_once(self):\n",
    "        print(\"Hello, I'm {}.\".format(self.__name))\n",
    "        \n",
    "    def greet(self):\n",
    "        self.__greet_once()\n",
    "        self.__great_once()\n",
    "        \n",
    "\n",
    "zs = Person('Zhang San')\n",
    "zs.greet()\n",
    "print(zs.__name)\n",
    "zs.__dict__"
   ]
  },
  {
   "cell_type": "code",
   "execution_count": 20,
   "metadata": {},
   "outputs": [
    {
     "name": "stdout",
     "output_type": "stream",
     "text": [
      "Help on class Person in module __main__:\n",
      "\n",
      "class Person(builtins.object)\n",
      " |  Person(name=None)\n",
      " |  \n",
      " |  Methods defined here:\n",
      " |  \n",
      " |  __init__(self, name=None)\n",
      " |      Initialize self.  See help(type(self)) for accurate signature.\n",
      " |  \n",
      " |  get_name(self)\n",
      " |  \n",
      " |  greet(self)\n",
      " |  \n",
      " |  set_name(self, name)\n",
      " |  \n",
      " |  ----------------------------------------------------------------------\n",
      " |  Data descriptors defined here:\n",
      " |  \n",
      " |  __dict__\n",
      " |      dictionary for instance variables (if defined)\n",
      " |  \n",
      " |  __weakref__\n",
      " |      list of weak references to the object (if defined)\n",
      " |  \n",
      " |  ----------------------------------------------------------------------\n",
      " |  Data and other attributes defined here:\n",
      " |  \n",
      " |  count = 0\n",
      "\n"
     ]
    }
   ],
   "source": [
    "help(Person)"
   ]
  },
  {
   "cell_type": "code",
   "execution_count": 28,
   "metadata": {},
   "outputs": [
    {
     "ename": "AttributeError",
     "evalue": "'Person' object has no attribute '__name'",
     "output_type": "error",
     "traceback": [
      "\u001b[1;31m---------------------------------------------------------------------------\u001b[0m",
      "\u001b[1;31mAttributeError\u001b[0m                            Traceback (most recent call last)",
      "\u001b[1;32m<ipython-input-28-6ef38a350c88>\u001b[0m in \u001b[0;36m<module>\u001b[1;34m\u001b[0m\n\u001b[0;32m      1\u001b[0m \u001b[0mzs\u001b[0m \u001b[1;33m=\u001b[0m \u001b[0mPerson\u001b[0m\u001b[1;33m(\u001b[0m\u001b[1;34m'Zhang San'\u001b[0m\u001b[1;33m)\u001b[0m\u001b[1;33m\u001b[0m\u001b[1;33m\u001b[0m\u001b[0m\n\u001b[1;32m----> 2\u001b[1;33m \u001b[0mzs\u001b[0m\u001b[1;33m.\u001b[0m\u001b[0m__name\u001b[0m\u001b[1;33m\u001b[0m\u001b[1;33m\u001b[0m\u001b[0m\n\u001b[0m",
      "\u001b[1;31mAttributeError\u001b[0m: 'Person' object has no attribute '__name'"
     ]
    }
   ],
   "source": [
    "zs = Person('Zhang San')\n",
    "zs.__name"
   ]
  },
  {
   "cell_type": "code",
   "execution_count": 29,
   "metadata": {},
   "outputs": [],
   "source": [
    "class Person:  \n",
    "    '''This class can be used to represent a person.'''\n",
    "    \n",
    "    def __init__(self, name = None):\n",
    "        self.__name = name\n",
    "        \n",
    "        \n",
    "    def set_name(self, name:str):   ### typy hint\n",
    "        '''Set the name of person. and name must be a str.'''\n",
    "        #assert(isinstance(name, str)) choose one of them \n",
    "        if isinstance(name, str):\n",
    "            self.__name = name\n",
    "        else:\n",
    "            print('Not a valid name.')\n",
    "        \n",
    "    def get_name(self)->str:\n",
    "        '''Return the name of the person'''\n",
    "        return self.__name\n",
    "    \n",
    "        \n",
    "    def __greet_once(self):\n",
    "        print(\"Hello, I'm {}.\".format(self.__name))\n",
    "        \n",
    "    def greet(self):\n",
    "        self.__greet_once()\n",
    "        self.__great_once()"
   ]
  },
  {
   "cell_type": "code",
   "execution_count": 30,
   "metadata": {},
   "outputs": [
    {
     "name": "stdout",
     "output_type": "stream",
     "text": [
      "1\n"
     ]
    }
   ],
   "source": [
    "## polymorphyism\n",
    "print('hello'.count('e'))\n"
   ]
  },
  {
   "cell_type": "code",
   "execution_count": 32,
   "metadata": {},
   "outputs": [
    {
     "name": "stdout",
     "output_type": "stream",
     "text": [
      "2\n"
     ]
    }
   ],
   "source": [
    "print(([1, 2, 3, 'e', 'e', 4]).count('e'))"
   ]
  },
  {
   "cell_type": "code",
   "execution_count": 33,
   "metadata": {},
   "outputs": [
    {
     "name": "stdout",
     "output_type": "stream",
     "text": [
      "1\n",
      "2\n"
     ]
    }
   ],
   "source": [
    "my_list = ['hello',[1, 2, 3, 'e', 'e', 4] ]\n",
    "for item in my_list:\n",
    "    print(item.count('e'))"
   ]
  },
  {
   "cell_type": "code",
   "execution_count": 34,
   "metadata": {},
   "outputs": [
    {
     "name": "stdout",
     "output_type": "stream",
     "text": [
      "mewo...\n",
      "wang, wang...\n"
     ]
    }
   ],
   "source": [
    "class Cat:\n",
    "    def meow(self):\n",
    "        print('mewo...')\n",
    "        \n",
    "class Dog:\n",
    "    def wang(self):\n",
    "        print('wang, wang...')\n",
    "        \n",
    "pets = list()\n",
    "pets.append(Cat())\n",
    "pets.append(Dog())\n",
    "\n",
    "for item in pets:\n",
    "    if isinstance(item, Cat):\n",
    "        item.meow()\n",
    "        \n",
    "    elif isinstance(item, Dog):\n",
    "        item.wang()\n",
    "    else:\n",
    "        pass\n",
    "    \n",
    "    "
   ]
  },
  {
   "cell_type": "code",
   "execution_count": 36,
   "metadata": {},
   "outputs": [
    {
     "name": "stdout",
     "output_type": "stream",
     "text": [
      "mewo...\n",
      "wang, wang...\n",
      "mewo...\n"
     ]
    }
   ],
   "source": [
    "class Cat:\n",
    "    def talk(self):\n",
    "        print('mewo...')\n",
    "        \n",
    "class Dog:\n",
    "    def talk(self):\n",
    "        print('wang, wang...')\n",
    "        \n",
    "pets = [Cat(), Dog(), Cat()]\n",
    "\n",
    "for item in pets:\n",
    "    item.talk()\n",
    "    "
   ]
  },
  {
   "cell_type": "code",
   "execution_count": 38,
   "metadata": {},
   "outputs": [
    {
     "name": "stdout",
     "output_type": "stream",
     "text": [
      "3\n",
      "ab\n"
     ]
    }
   ],
   "source": [
    "def add(a, b):\n",
    "    return a + b\n",
    "\n",
    "a = 1\n",
    "b = 2\n",
    "print(add(a, b))\n",
    "\n",
    "x, y = 'a', 'b'\n",
    "print(add(x,y))"
   ]
  },
  {
   "cell_type": "code",
   "execution_count": 51,
   "metadata": {},
   "outputs": [
    {
     "ename": "NameError",
     "evalue": "name 'set_name' is not defined",
     "output_type": "error",
     "traceback": [
      "\u001b[1;31m---------------------------------------------------------------------------\u001b[0m",
      "\u001b[1;31mNameError\u001b[0m                                 Traceback (most recent call last)",
      "\u001b[1;32m<ipython-input-51-e9fca5dc3aa9>\u001b[0m in \u001b[0;36m<module>\u001b[1;34m\u001b[0m\n\u001b[0;32m     36\u001b[0m         \u001b[0mself\u001b[0m\u001b[1;33m.\u001b[0m\u001b[0mshow_score\u001b[0m\u001b[1;33m(\u001b[0m\u001b[1;33m)\u001b[0m\u001b[1;33m\u001b[0m\u001b[1;33m\u001b[0m\u001b[0m\n\u001b[0;32m     37\u001b[0m \u001b[1;33m\u001b[0m\u001b[0m\n\u001b[1;32m---> 38\u001b[1;33m \u001b[0mzs\u001b[0m \u001b[1;33m=\u001b[0m \u001b[0mStudent\u001b[0m\u001b[1;33m(\u001b[0m\u001b[1;34m\"Zhang San\"\u001b[0m\u001b[1;33m)\u001b[0m\u001b[1;33m\u001b[0m\u001b[1;33m\u001b[0m\u001b[0m\n\u001b[0m\u001b[0;32m     39\u001b[0m \u001b[1;31m#zs.set_name('Zhang San')\u001b[0m\u001b[1;33m\u001b[0m\u001b[1;33m\u001b[0m\u001b[1;33m\u001b[0m\u001b[0m\n\u001b[0;32m     40\u001b[0m \u001b[0mzs\u001b[0m\u001b[1;33m.\u001b[0m\u001b[0mset_score\u001b[0m\u001b[1;33m(\u001b[0m\u001b[1;36m99\u001b[0m\u001b[1;33m)\u001b[0m\u001b[1;33m\u001b[0m\u001b[1;33m\u001b[0m\u001b[0m\n",
      "\u001b[1;32m<ipython-input-51-e9fca5dc3aa9>\u001b[0m in \u001b[0;36m__init__\u001b[1;34m(self, name)\u001b[0m\n\u001b[0;32m     20\u001b[0m \u001b[1;32mclass\u001b[0m \u001b[0mStudent\u001b[0m\u001b[1;33m(\u001b[0m\u001b[0mPerson\u001b[0m\u001b[1;33m)\u001b[0m\u001b[1;33m:\u001b[0m\u001b[1;33m\u001b[0m\u001b[1;33m\u001b[0m\u001b[0m\n\u001b[0;32m     21\u001b[0m     \u001b[1;32mdef\u001b[0m \u001b[0m__init__\u001b[0m\u001b[1;33m(\u001b[0m\u001b[0mself\u001b[0m\u001b[1;33m,\u001b[0m \u001b[0mname\u001b[0m \u001b[1;33m=\u001b[0m \u001b[1;32mNone\u001b[0m\u001b[1;33m)\u001b[0m\u001b[1;33m:\u001b[0m\u001b[1;33m\u001b[0m\u001b[1;33m\u001b[0m\u001b[0m\n\u001b[1;32m---> 22\u001b[1;33m         \u001b[0mPerson\u001b[0m\u001b[1;33m.\u001b[0m\u001b[0m__init__\u001b[0m\u001b[1;33m(\u001b[0m\u001b[0mself\u001b[0m\u001b[1;33m,\u001b[0m \u001b[0mname\u001b[0m\u001b[1;33m)\u001b[0m\u001b[1;33m\u001b[0m\u001b[1;33m\u001b[0m\u001b[0m\n\u001b[0m\u001b[0;32m     23\u001b[0m         \u001b[0mself\u001b[0m\u001b[1;33m.\u001b[0m\u001b[0m__score\u001b[0m \u001b[1;33m=\u001b[0m \u001b[1;36m60\u001b[0m\u001b[1;33m\u001b[0m\u001b[1;33m\u001b[0m\u001b[0m\n\u001b[0;32m     24\u001b[0m \u001b[1;33m\u001b[0m\u001b[0m\n",
      "\u001b[1;32m<ipython-input-51-e9fca5dc3aa9>\u001b[0m in \u001b[0;36m__init__\u001b[1;34m(self, name)\u001b[0m\n\u001b[0;32m      2\u001b[0m \u001b[1;33m\u001b[0m\u001b[0m\n\u001b[0;32m      3\u001b[0m     \u001b[1;32mdef\u001b[0m \u001b[0m__init__\u001b[0m\u001b[1;33m(\u001b[0m\u001b[0mself\u001b[0m\u001b[1;33m,\u001b[0m \u001b[0mname\u001b[0m \u001b[1;33m=\u001b[0m \u001b[1;32mNone\u001b[0m\u001b[1;33m)\u001b[0m\u001b[1;33m:\u001b[0m\u001b[1;33m\u001b[0m\u001b[1;33m\u001b[0m\u001b[0m\n\u001b[1;32m----> 4\u001b[1;33m         \u001b[0mset_name\u001b[0m\u001b[1;33m(\u001b[0m\u001b[0mname\u001b[0m\u001b[1;33m)\u001b[0m\u001b[1;33m\u001b[0m\u001b[1;33m\u001b[0m\u001b[0m\n\u001b[0m\u001b[0;32m      5\u001b[0m \u001b[1;33m\u001b[0m\u001b[0m\n\u001b[0;32m      6\u001b[0m     \u001b[1;32mdef\u001b[0m \u001b[0mset_name\u001b[0m\u001b[1;33m(\u001b[0m\u001b[0mself\u001b[0m\u001b[1;33m,\u001b[0m \u001b[0mname\u001b[0m\u001b[1;33m)\u001b[0m\u001b[1;33m:\u001b[0m\u001b[1;33m\u001b[0m\u001b[1;33m\u001b[0m\u001b[0m\n",
      "\u001b[1;31mNameError\u001b[0m: name 'set_name' is not defined"
     ]
    }
   ],
   "source": [
    "class Person:   ### encapsulation and conception hiding\n",
    "    \n",
    "    def __init__(self, name = None):\n",
    "        set_name(name)\n",
    "        \n",
    "    def set_name(self, name):\n",
    "        #assert(isinstance(name, str)) choose one of them \n",
    "        if isinstance(name, str):\n",
    "            self.__name = name\n",
    "        else:\n",
    "            print('Not a valid name.')\n",
    "        \n",
    "    def get_name(self):\n",
    "        return self.__name\n",
    "    \n",
    "    def greet(self):\n",
    "        print(\"Hello, I'm {}\".format(self.__name))\n",
    "\n",
    "### inheritence, relationship between the parent(base/super) class and its child(derive/sub) class\n",
    "class Student(Person):\n",
    "    def __init__(self, name = None):\n",
    "        Person.__init__(self, name)\n",
    "        self.__score = 60\n",
    "    \n",
    "    def set_score(self, score):\n",
    "        self.__score = score\n",
    "        \n",
    "    def get_score(self):\n",
    "        return self.__score\n",
    "    \n",
    "    def show_score(self):\n",
    "        print('My score is {}'.format(self.__score))\n",
    "        \n",
    "    def greet(self):\n",
    "        Person.greet(self)\n",
    "        self.show_score()\n",
    "        \n",
    "zs = Student(\"Zhang San\")\n",
    "#zs.set_name('Zhang San')\n",
    "zs.set_score(99)\n",
    "zs.greet()\n",
    "#zs.show_score()\n",
    "    \n"
   ]
  },
  {
   "cell_type": "code",
   "execution_count": 52,
   "metadata": {},
   "outputs": [
    {
     "ename": "NameError",
     "evalue": "name 'set_name' is not defined",
     "output_type": "error",
     "traceback": [
      "\u001b[1;31m---------------------------------------------------------------------------\u001b[0m",
      "\u001b[1;31mNameError\u001b[0m                                 Traceback (most recent call last)",
      "\u001b[1;32m<ipython-input-52-5aea39629b49>\u001b[0m in \u001b[0;36m<module>\u001b[1;34m\u001b[0m\n\u001b[0;32m      1\u001b[0m \u001b[0mpeople\u001b[0m \u001b[1;33m=\u001b[0m \u001b[0mlist\u001b[0m\u001b[1;33m(\u001b[0m\u001b[1;33m)\u001b[0m\u001b[1;33m\u001b[0m\u001b[1;33m\u001b[0m\u001b[0m\n\u001b[1;32m----> 2\u001b[1;33m \u001b[0mzs\u001b[0m \u001b[1;33m=\u001b[0m \u001b[0mPerson\u001b[0m\u001b[1;33m(\u001b[0m\u001b[1;34m'zhang san'\u001b[0m\u001b[1;33m)\u001b[0m\u001b[1;33m\u001b[0m\u001b[1;33m\u001b[0m\u001b[0m\n\u001b[0m\u001b[0;32m      3\u001b[0m \u001b[0mls\u001b[0m \u001b[1;33m=\u001b[0m \u001b[0mStudent\u001b[0m\u001b[1;33m(\u001b[0m\u001b[1;34m'li si'\u001b[0m\u001b[1;33m)\u001b[0m\u001b[1;33m\u001b[0m\u001b[1;33m\u001b[0m\u001b[0m\n\u001b[0;32m      4\u001b[0m \u001b[0mls\u001b[0m\u001b[1;33m.\u001b[0m\u001b[0mset_score\u001b[0m\u001b[1;33m(\u001b[0m\u001b[1;36m100\u001b[0m\u001b[1;33m)\u001b[0m\u001b[1;33m\u001b[0m\u001b[1;33m\u001b[0m\u001b[0m\n\u001b[0;32m      5\u001b[0m \u001b[0mpeople\u001b[0m\u001b[1;33m.\u001b[0m\u001b[0mappend\u001b[0m\u001b[1;33m(\u001b[0m\u001b[0mzs\u001b[0m\u001b[1;33m)\u001b[0m\u001b[1;33m\u001b[0m\u001b[1;33m\u001b[0m\u001b[0m\n",
      "\u001b[1;32m<ipython-input-51-e9fca5dc3aa9>\u001b[0m in \u001b[0;36m__init__\u001b[1;34m(self, name)\u001b[0m\n\u001b[0;32m      2\u001b[0m \u001b[1;33m\u001b[0m\u001b[0m\n\u001b[0;32m      3\u001b[0m     \u001b[1;32mdef\u001b[0m \u001b[0m__init__\u001b[0m\u001b[1;33m(\u001b[0m\u001b[0mself\u001b[0m\u001b[1;33m,\u001b[0m \u001b[0mname\u001b[0m \u001b[1;33m=\u001b[0m \u001b[1;32mNone\u001b[0m\u001b[1;33m)\u001b[0m\u001b[1;33m:\u001b[0m\u001b[1;33m\u001b[0m\u001b[1;33m\u001b[0m\u001b[0m\n\u001b[1;32m----> 4\u001b[1;33m         \u001b[0mset_name\u001b[0m\u001b[1;33m(\u001b[0m\u001b[0mname\u001b[0m\u001b[1;33m)\u001b[0m\u001b[1;33m\u001b[0m\u001b[1;33m\u001b[0m\u001b[0m\n\u001b[0m\u001b[0;32m      5\u001b[0m \u001b[1;33m\u001b[0m\u001b[0m\n\u001b[0;32m      6\u001b[0m     \u001b[1;32mdef\u001b[0m \u001b[0mset_name\u001b[0m\u001b[1;33m(\u001b[0m\u001b[0mself\u001b[0m\u001b[1;33m,\u001b[0m \u001b[0mname\u001b[0m\u001b[1;33m)\u001b[0m\u001b[1;33m:\u001b[0m\u001b[1;33m\u001b[0m\u001b[1;33m\u001b[0m\u001b[0m\n",
      "\u001b[1;31mNameError\u001b[0m: name 'set_name' is not defined"
     ]
    }
   ],
   "source": [
    "people = list()\n",
    "zs = Person('zhang san')\n",
    "ls = Student('li si')\n",
    "ls.set_score(100)\n",
    "people.append(zs)\n",
    "people.append(ls)\n",
    "\n",
    "for p in people:\n",
    "    p.greet()"
   ]
  },
  {
   "cell_type": "code",
   "execution_count": 53,
   "metadata": {},
   "outputs": [
    {
     "data": {
      "text/plain": [
       "True"
      ]
     },
     "execution_count": 53,
     "metadata": {},
     "output_type": "execute_result"
    }
   ],
   "source": [
    "issubclass(Student, Person)"
   ]
  },
  {
   "cell_type": "code",
   "execution_count": 55,
   "metadata": {},
   "outputs": [
    {
     "data": {
      "text/plain": [
       "False"
      ]
     },
     "execution_count": 55,
     "metadata": {},
     "output_type": "execute_result"
    }
   ],
   "source": [
    "isinstance(zs,Student)"
   ]
  },
  {
   "cell_type": "code",
   "execution_count": 61,
   "metadata": {},
   "outputs": [
    {
     "data": {
      "text/plain": [
       "[1, 2, 3]"
      ]
     },
     "execution_count": 61,
     "metadata": {},
     "output_type": "execute_result"
    }
   ],
   "source": [
    "class Filter:\n",
    "    def __init__(self):\n",
    "        self.blocked = []\n",
    "        \n",
    "    def filter(self, sequence):\n",
    "        return[x for x in sequence if x not in self.blocked]\n",
    "    \n",
    "class SpamFilter(Filter):\n",
    "    def __init__(self):\n",
    "        self.blocked = ['SPAM']\n",
    "        \n",
    "f =Filter()\n",
    "f.filter([1, 2, 3])"
   ]
  },
  {
   "cell_type": "code",
   "execution_count": 62,
   "metadata": {},
   "outputs": [
    {
     "data": {
      "text/plain": [
       "['bacon', 'sausage']"
      ]
     },
     "execution_count": 62,
     "metadata": {},
     "output_type": "execute_result"
    }
   ],
   "source": [
    "sf = SpamFilter()\n",
    "sf.filter(['SPAM', 'SPAM', 'bacon', 'sausage', 'SPAM'])"
   ]
  },
  {
   "cell_type": "code",
   "execution_count": 63,
   "metadata": {},
   "outputs": [
    {
     "data": {
      "text/plain": [
       "['bacon', 'sausage']"
      ]
     },
     "execution_count": 63,
     "metadata": {},
     "output_type": "execute_result"
    }
   ],
   "source": [
    "class Filter:\n",
    "    def __init__(self):\n",
    "        self.blocked = []\n",
    "        \n",
    "    def filter(self, sequence):\n",
    "        return[x for x in sequence if x not in self.blocked]\n",
    "    \n",
    "sf = Filter()\n",
    "sf.blocked = ['SPAM']\n",
    "sf.filter(['SPAM', 'SPAM', 'bacon', 'sausage', 'SPAM'])"
   ]
  },
  {
   "cell_type": "code",
   "execution_count": 64,
   "metadata": {},
   "outputs": [
    {
     "name": "stdout",
     "output_type": "stream",
     "text": [
      "My value is: 6\n"
     ]
    }
   ],
   "source": [
    "class Calculator:\n",
    "    def calculate(self, expression):\n",
    "        self.value = eval(expression)\n",
    "        \n",
    "class Talker:\n",
    "    def talk(self):\n",
    "        print('My value is:', self.value)\n",
    "        \n",
    "class TalkingCalculator(Calculator, Talker):\n",
    "    pass\n",
    "\n",
    "tc = TalkingCalculator()\n",
    "tc.calculate('1 + 2 + 3')\n",
    "tc.talk()"
   ]
  },
  {
   "cell_type": "code",
   "execution_count": 70,
   "metadata": {},
   "outputs": [
    {
     "name": "stdout",
     "output_type": "stream",
     "text": [
      "My value is: 6\n"
     ]
    }
   ],
   "source": [
    "class Calculator:\n",
    "    def calculate(self, expression):\n",
    "        return eval(expression)\n",
    "        \n",
    "class Talker:\n",
    "    def talk(self, value):\n",
    "        print('My value is:', value)\n",
    "        \n",
    "class TalkingCalculator(Calculator, Talker):\n",
    "    pass\n",
    "\n",
    "tc = TalkingCalculator()\n",
    "result = tc.calculate('1 + 2 + 3')\n",
    "tc.talk(result)"
   ]
  },
  {
   "cell_type": "code",
   "execution_count": 69,
   "metadata": {},
   "outputs": [
    {
     "name": "stdout",
     "output_type": "stream",
     "text": [
      "My value is: 6\n"
     ]
    }
   ],
   "source": [
    "class Calculator:\n",
    "    def calculate(self, expression):\n",
    "        return eval(expression)\n",
    "        \n",
    "class Talker:\n",
    "    def talk(self, value):\n",
    "        print('My value is:', value)\n",
    "        \n",
    "class TalkingCalculator:\n",
    "    def __init__(self):\n",
    "        self.__calculator = Calculator()\n",
    "        self.__talker = Talker()\n",
    "        self.__value = None\n",
    "        \n",
    "    def calculate(self, expression):\n",
    "        self.__value = self.__calculator.calculate(expression)\n",
    "        \n",
    "    def talk(self):\n",
    "        self.__talker.talk(self.__value)\n",
    "\n",
    "tc = TalkingCalculator() \n",
    "tc.calculate('1 + 2 + 3')\n",
    "tc.talk()"
   ]
  },
  {
   "cell_type": "code",
   "execution_count": 9,
   "metadata": {},
   "outputs": [
    {
     "data": {
      "text/plain": [
       "7"
      ]
     },
     "execution_count": 9,
     "metadata": {},
     "output_type": "execute_result"
    }
   ],
   "source": [
    "class Calculator:\n",
    "    def calculate(self, expression):\n",
    "        return eval(expression)\n",
    "        \n",
    "class Talker:\n",
    "    def talk(self, value):\n",
    "        print('My value is:', value)\n",
    "        \n",
    "class TalkingCalculator(Calculator):\n",
    "    def __init__(self):\n",
    "        self.__talker = Talker()\n",
    "        \n",
    "        \n",
    "   # def talk(self):\n",
    "       # self.__talker.talk(self.__value)\n",
    "        \n",
    "    def calculator(self, expression):\n",
    "        value = Calculator.Calculate(self, expression)\n",
    "        self.__talker.talk(value)\n",
    "        \n",
    "tc = TalkingCalculator()\n",
    "tc.calculate('1+ 2 * 3')\n",
    "        "
   ]
  },
  {
   "cell_type": "code",
   "execution_count": 13,
   "metadata": {},
   "outputs": [
    {
     "name": "stdout",
     "output_type": "stream",
     "text": [
      "screwing...\n",
      "cutting...\n"
     ]
    }
   ],
   "source": [
    "class Screwdriver:\n",
    "    def screw(self):\n",
    "        print('screwing...')\n",
    "        \n",
    "class Knife:\n",
    "    def cut(self):\n",
    "        print('cutting...')\n",
    "        \n",
    "class SwissKnife(Screwdriver, Knife):\n",
    "    pass\n",
    "\n",
    "sk = SwissKnife()\n",
    "sk.screw()\n",
    "sk.cut()"
   ]
  },
  {
   "cell_type": "code",
   "execution_count": 18,
   "metadata": {},
   "outputs": [
    {
     "name": "stdout",
     "output_type": "stream",
     "text": [
      "screwing with a screwdriver of size 4...\n",
      "cutting...\n"
     ]
    }
   ],
   "source": [
    "class Screwdriver:\n",
    "    def __init__(self, size):\n",
    "        self.size = size\n",
    "        \n",
    "    def screw(self):\n",
    "        print('screwing with a screwdriver of size {}...'.format(self.size))\n",
    "        \n",
    "class Knife:\n",
    "    def cut(self):\n",
    "        print('cutting...')\n",
    "        \n",
    "class SwissKnife(Screwdriver, Knife):\n",
    "    def __init__(self, screwdriver_size):\n",
    "        Screwdriver.__init__(self, screwdriver_size)\n",
    "        Knife.__init__(self)\n",
    "    pass\n",
    "\n",
    "sk = SwissKnife(4)\n",
    "sk.screw()\n",
    "sk.cut()"
   ]
  },
  {
   "cell_type": "code",
   "execution_count": 24,
   "metadata": {},
   "outputs": [
    {
     "name": "stdout",
     "output_type": "stream",
     "text": [
      "screwing with a screwdriver of size 10...\n",
      "screwing with a screwdriver of size 2...\n",
      "cutting...\n",
      "chasing a ball...\n"
     ]
    },
    {
     "ename": "AttributeError",
     "evalue": "'Fork' object has no attribute 'work'",
     "output_type": "error",
     "traceback": [
      "\u001b[1;31m---------------------------------------------------------------------------\u001b[0m",
      "\u001b[1;31mAttributeError\u001b[0m                            Traceback (most recent call last)",
      "\u001b[1;32m<ipython-input-24-288246b16df8>\u001b[0m in \u001b[0;36m<module>\u001b[1;34m\u001b[0m\n\u001b[0;32m     46\u001b[0m \u001b[0msk\u001b[0m\u001b[1;33m.\u001b[0m\u001b[0muse_tool\u001b[0m\u001b[1;33m(\u001b[0m\u001b[1;34m'Knife'\u001b[0m\u001b[1;33m)\u001b[0m\u001b[1;33m\u001b[0m\u001b[1;33m\u001b[0m\u001b[0m\n\u001b[0;32m     47\u001b[0m \u001b[0msk\u001b[0m\u001b[1;33m.\u001b[0m\u001b[0muse_tool\u001b[0m\u001b[1;33m(\u001b[0m\u001b[1;34m'Dog'\u001b[0m\u001b[1;33m)\u001b[0m\u001b[1;33m\u001b[0m\u001b[1;33m\u001b[0m\u001b[0m\n\u001b[1;32m---> 48\u001b[1;33m \u001b[0msk\u001b[0m\u001b[1;33m.\u001b[0m\u001b[0muse_tool\u001b[0m\u001b[1;33m(\u001b[0m\u001b[1;34m'Fork'\u001b[0m\u001b[1;33m)\u001b[0m\u001b[1;33m\u001b[0m\u001b[1;33m\u001b[0m\u001b[0m\n\u001b[0m",
      "\u001b[1;32m<ipython-input-24-288246b16df8>\u001b[0m in \u001b[0;36muse_tool\u001b[1;34m(self, name)\u001b[0m\n\u001b[0;32m     29\u001b[0m         \u001b[0mtool\u001b[0m \u001b[1;33m=\u001b[0m \u001b[0mself\u001b[0m\u001b[1;33m.\u001b[0m\u001b[0mtools\u001b[0m\u001b[1;33m.\u001b[0m\u001b[0mget\u001b[0m\u001b[1;33m(\u001b[0m\u001b[0mname\u001b[0m\u001b[1;33m)\u001b[0m\u001b[1;33m\u001b[0m\u001b[1;33m\u001b[0m\u001b[0m\n\u001b[0;32m     30\u001b[0m         \u001b[1;32mif\u001b[0m \u001b[0mtool\u001b[0m \u001b[1;32mis\u001b[0m \u001b[1;32mnot\u001b[0m \u001b[1;32mNone\u001b[0m\u001b[1;33m:\u001b[0m\u001b[1;33m\u001b[0m\u001b[1;33m\u001b[0m\u001b[0m\n\u001b[1;32m---> 31\u001b[1;33m             \u001b[0mtool\u001b[0m\u001b[1;33m.\u001b[0m\u001b[0mwork\u001b[0m\u001b[1;33m(\u001b[0m\u001b[1;33m)\u001b[0m\u001b[1;33m\u001b[0m\u001b[1;33m\u001b[0m\u001b[0m\n\u001b[0m\u001b[0;32m     32\u001b[0m         \u001b[1;32melse\u001b[0m\u001b[1;33m:\u001b[0m\u001b[1;33m\u001b[0m\u001b[1;33m\u001b[0m\u001b[0m\n\u001b[0;32m     33\u001b[0m             \u001b[0mprint\u001b[0m\u001b[1;33m(\u001b[0m\u001b[1;34m'{} not found.'\u001b[0m\u001b[1;33m.\u001b[0m\u001b[0mformat\u001b[0m\u001b[1;33m(\u001b[0m\u001b[0mname\u001b[0m\u001b[1;33m)\u001b[0m\u001b[1;33m)\u001b[0m\u001b[1;33m\u001b[0m\u001b[1;33m\u001b[0m\u001b[0m\n",
      "\u001b[1;31mAttributeError\u001b[0m: 'Fork' object has no attribute 'work'"
     ]
    }
   ],
   "source": [
    "class Screwdriver:\n",
    "    def __init__(self, size):\n",
    "        self.size = size\n",
    "        \n",
    "    def work(self):\n",
    "        print('screwing with a screwdriver of size {}...'.format(self.size))\n",
    "        \n",
    "class Knife:\n",
    "    def work(self):\n",
    "        print('cutting...')\n",
    "        \n",
    "class Dog:\n",
    "    def work(self):\n",
    "        print('chasing a ball...')\n",
    "        \n",
    "class Fork:\n",
    "    def fork(self):\n",
    "        print('pitching...')\n",
    "        \n",
    "        \n",
    "class SwissKnife:\n",
    "    def __init__(self):\n",
    "        self.tools = {}\n",
    "        \n",
    "    def add_tool(self, name, tool):\n",
    "        self.tools[name] = tool\n",
    "        \n",
    "    def use_tool(self, name):\n",
    "        tool = self.tools.get(name)\n",
    "        if tool is not None:\n",
    "            tool.work()\n",
    "        else:\n",
    "            print('{} not found.'.format(name))\n",
    "        pass\n",
    "    \n",
    "\n",
    "sk = SwissKnife()\n",
    "sk.add_tool('Knife', Knife())\n",
    "sk.add_tool('Big screwdriver', Screwdriver(10))\n",
    "sk.add_tool('Small screwdriver', Screwdriver(2))\n",
    "sk.add_tool('Dog', Dog())\n",
    "sk.add_tool('Fork', Fork())\n",
    "\n",
    "sk.use_tool('Big screwdriver')\n",
    "sk.use_tool('Small screwdriver')\n",
    "sk.use_tool('Knife')\n",
    "sk.use_tool('Dog')\n",
    "sk.use_tool('Fork')"
   ]
  },
  {
   "cell_type": "code",
   "execution_count": 25,
   "metadata": {},
   "outputs": [
    {
     "data": {
      "text/plain": [
       "True"
      ]
     },
     "execution_count": 25,
     "metadata": {},
     "output_type": "execute_result"
    }
   ],
   "source": [
    "knife = Knife()\n",
    "hasattr(knife, 'work')"
   ]
  },
  {
   "cell_type": "code",
   "execution_count": 26,
   "metadata": {},
   "outputs": [
    {
     "data": {
      "text/plain": [
       "False"
      ]
     },
     "execution_count": 26,
     "metadata": {},
     "output_type": "execute_result"
    }
   ],
   "source": [
    "hasattr(Knife, 'cut')"
   ]
  },
  {
   "cell_type": "code",
   "execution_count": 27,
   "metadata": {},
   "outputs": [
    {
     "data": {
      "text/plain": [
       "True"
      ]
     },
     "execution_count": 27,
     "metadata": {},
     "output_type": "execute_result"
    }
   ],
   "source": [
    "callable(getattr(knife, 'work'))"
   ]
  },
  {
   "cell_type": "code",
   "execution_count": 28,
   "metadata": {},
   "outputs": [],
   "source": [
    "setattr(knife, 'cut', None)"
   ]
  },
  {
   "cell_type": "code",
   "execution_count": 29,
   "metadata": {},
   "outputs": [
    {
     "data": {
      "text/plain": [
       "True"
      ]
     },
     "execution_count": 29,
     "metadata": {},
     "output_type": "execute_result"
    }
   ],
   "source": [
    "hasattr(knife,'cut')"
   ]
  },
  {
   "cell_type": "code",
   "execution_count": 31,
   "metadata": {},
   "outputs": [
    {
     "data": {
      "text/plain": [
       "False"
      ]
     },
     "execution_count": 31,
     "metadata": {},
     "output_type": "execute_result"
    }
   ],
   "source": [
    "callable(getattr(knife,'cut'))"
   ]
  },
  {
   "cell_type": "code",
   "execution_count": 33,
   "metadata": {},
   "outputs": [
    {
     "data": {
      "text/plain": [
       "False"
      ]
     },
     "execution_count": 33,
     "metadata": {},
     "output_type": "execute_result"
    }
   ],
   "source": [
    "callable(getattr(knife, 'screw', None))  ## none when cannot find the screw"
   ]
  },
  {
   "cell_type": "code",
   "execution_count": 34,
   "metadata": {},
   "outputs": [
    {
     "data": {
      "text/plain": [
       "{'cut': None}"
      ]
     },
     "execution_count": 34,
     "metadata": {},
     "output_type": "execute_result"
    }
   ],
   "source": [
    "knife.__dict__   ## every obj. has a dict"
   ]
  },
  {
   "cell_type": "code",
   "execution_count": 50,
   "metadata": {},
   "outputs": [
    {
     "name": "stdout",
     "output_type": "stream",
     "text": [
      "Fork is not a valid tool, work() not found.\n",
      "screwing with a screwdriver of size 10...\n",
      "screwing with a screwdriver of size 2...\n",
      "cutting...\n",
      "chasing a ball...\n",
      "Fork not found.\n"
     ]
    }
   ],
   "source": [
    "class Screwdriver:\n",
    "    def __init__(self, size):\n",
    "        self.size = size\n",
    "        \n",
    "    def work(self):\n",
    "        print('screwing with a screwdriver of size {}...'.format(self.size))\n",
    "        \n",
    "class Knife:\n",
    "    def work(self):\n",
    "        print('cutting...')\n",
    "        \n",
    "class Dog:\n",
    "    def work(self):\n",
    "        print('chasing a ball...')\n",
    "        \n",
    "class Fork:\n",
    "    def fork(self):\n",
    "        print('pitching...')\n",
    "        \n",
    "        \n",
    "class SwissKnife:\n",
    "    def __init__(self):\n",
    "        self.tools = {}\n",
    "        \n",
    "    def add_tool(self, name, tool):\n",
    "        if callable(getattr(tool, 'work', None)):\n",
    "            self.tools[name] = tool\n",
    "        else:\n",
    "            print('{} is not a valid tool, work() not found.'.format(name))\n",
    "        \n",
    "    def use_tool(self, name):\n",
    "        tool = self.tools.get(name)\n",
    "        if tool is not None:\n",
    "            tool.work()\n",
    "        else:\n",
    "            print('{} not found.'.format(name))\n",
    "        pass\n",
    "    \n",
    "\n",
    "sk = SwissKnife()\n",
    "sk.add_tool('Knife', Knife())\n",
    "sk.add_tool('Big screwdriver', Screwdriver(10))\n",
    "sk.add_tool('Small screwdriver', Screwdriver(2))\n",
    "sk.add_tool('Dog', Dog())\n",
    "sk.add_tool('Fork', Fork())\n",
    "\n",
    "sk.use_tool('Big screwdriver')\n",
    "sk.use_tool('Small screwdriver')\n",
    "sk.use_tool('Knife')\n",
    "sk.use_tool('Dog')\n",
    "sk.use_tool('Fork')"
   ]
  },
  {
   "cell_type": "code",
   "execution_count": 51,
   "metadata": {},
   "outputs": [],
   "source": [
    "## abstract, base, class = abc\n",
    "from abc import ABC, abstractmethod\n",
    "\n",
    "class Tool(ABC):\n",
    "    @abstractmethod\n",
    "    def work(self):\n",
    "        pass\n",
    "    \n",
    "    "
   ]
  },
  {
   "cell_type": "code",
   "execution_count": null,
   "metadata": {},
   "outputs": [],
   "source": []
  },
  {
   "cell_type": "code",
   "execution_count": 52,
   "metadata": {},
   "outputs": [
    {
     "name": "stdout",
     "output_type": "stream",
     "text": [
      "Big screwdriver is not a valid tool, not derived from class Tool.\n",
      "Small screwdriver is not a valid tool, not derived from class Tool.\n",
      "Dog is not a valid tool, not derived from class Tool.\n",
      "Big screwdriver: \n",
      "not found.\n",
      "Small screwdriver: \n",
      "not found.\n",
      "Knife: \n",
      "cutting...\n",
      "Dog: \n",
      "not found.\n"
     ]
    }
   ],
   "source": [
    "class Screwdriver:\n",
    "    def __init__(self, size):\n",
    "        self.size = size\n",
    "        \n",
    "    def work(self):\n",
    "        print('screwing with a screwdriver of size {}...'.format(self.size))\n",
    "        \n",
    "class Knife(Tool):\n",
    "    def work(self):\n",
    "        print('cutting...')\n",
    "        \n",
    "class Dog:\n",
    "    def work(self):\n",
    "        print('chasing a ball...')\n",
    "        \n",
    "class Fork(Tool):\n",
    "    def fork(self):\n",
    "        print('pitching...')\n",
    "        \n",
    "        \n",
    "class SwissKnife:\n",
    "    def __init__(self):\n",
    "        self.tools = {}\n",
    "        \n",
    "    def add_tool(self, name, tool):\n",
    "        if isinstance(tool, Tool):\n",
    "            self.tools[name] = tool\n",
    "        else:\n",
    "            print('{} is not a valid tool, not derived from class Tool.'.format(name))\n",
    "        \n",
    "    def use_tool(self, name):\n",
    "        tool = self.tools.get(name)\n",
    "        print('{}: '.format(name))\n",
    "        if tool is not None:\n",
    "            tool.work()\n",
    "        else:\n",
    "            print('not found.')\n",
    "        pass\n",
    "    \n",
    "\n",
    "sk = SwissKnife()\n",
    "sk.add_tool('Knife', Knife())\n",
    "sk.add_tool('Big screwdriver', Screwdriver(10))\n",
    "sk.add_tool('Small screwdriver', Screwdriver(2))\n",
    "sk.add_tool('Dog', Dog())\n",
    "#sk.add_tool('Fork', Fork())\n",
    "\n",
    "sk.use_tool('Big screwdriver')\n",
    "sk.use_tool('Small screwdriver')\n",
    "sk.use_tool('Knife')\n",
    "sk.use_tool('Dog')\n",
    "#sk.use_tool('Fork')"
   ]
  },
  {
   "cell_type": "code",
   "execution_count": 53,
   "metadata": {},
   "outputs": [],
   "source": [
    "from time import sleep\n",
    "import random\n",
    "\n",
    "class Bar:\n",
    "    __empty = '-'\n",
    "    def __init__(self, length=80):\n",
    "        self.bar = list()\n",
    "        for i in range(0, length):\n",
    "            self.bar.append(bar.__empty)\n",
    "            \n",
    "    def reset(self):\n",
    "        for i in range(len(self.bar)):\n",
    "            self.bar[i] = Bar.__empty\n",
    "            \n",
    "    def update(self, ants):\n",
    "        self.reset()\n",
    "        for ant in ants:\n",
    "            if 0 <= ant.position < len(self.bar):\n",
    "                self.bar[ant.position] = ant.symbol\n",
    "                \n",
    "    def is_empty(self):\n",
    "        for item in self.bar:\n",
    "            if not item == Bar.__empty:\n",
    "                return False\n",
    "        else:\n",
    "                return True\n",
    "            \n",
    "    def show(self):\n",
    "        for ch in self.bar:\n",
    "            print(ch, sep='', end='')\n",
    "        print('', end='\\n')\n",
    "        \n",
    "        \n",
    "class Ant:\n",
    "    symbols = 'ABCDEFGHIJKLMOPQRSTUVWXYZ'\n",
    "    count = 0\n",
    "    def __init__(self, position, direction, symbol='*'):\n",
    "        self.position = position\n",
    "        self.direction = direction\n",
    "        if symbol is None:\n",
    "            self.symbol = Ant.symbols[Any.count]\n",
    "            count += 1\n",
    "        else:\n",
    "            self.symbol = symbol\n",
    "        \n",
    "        \n",
    "    def move(self):\n",
    "        self.position = self.direction\n",
    "        \n",
    "    def create_rnadom_ant(length = 80):  ## factory method\n",
    "        position = random.randint(0, length - 1)  ### 产生闭区间的随机整数\n",
    "        direction = random.choice([1, -1])\n",
    "        return Ant(position, direction)\n",
    "        \n",
    "        \n",
    "        \n",
    "         "
   ]
  },
  {
   "cell_type": "code",
   "execution_count": 55,
   "metadata": {},
   "outputs": [
    {
     "ename": "Exception",
     "evalue": "System fault.",
     "output_type": "error",
     "traceback": [
      "\u001b[1;31m---------------------------------------------------------------------------\u001b[0m",
      "\u001b[1;31mException\u001b[0m                                 Traceback (most recent call last)",
      "\u001b[1;32m<ipython-input-55-70fa745d48e3>\u001b[0m in \u001b[0;36m<module>\u001b[1;34m\u001b[0m\n\u001b[1;32m----> 1\u001b[1;33m \u001b[1;32mraise\u001b[0m \u001b[0mException\u001b[0m\u001b[1;33m(\u001b[0m\u001b[1;34m'System fault.'\u001b[0m\u001b[1;33m)\u001b[0m\u001b[1;33m\u001b[0m\u001b[1;33m\u001b[0m\u001b[0m\n\u001b[0m",
      "\u001b[1;31mException\u001b[0m: System fault."
     ]
    }
   ],
   "source": [
    "raise Exception('System fault.')"
   ]
  },
  {
   "cell_type": "code",
   "execution_count": 56,
   "metadata": {},
   "outputs": [
    {
     "ename": "MyException",
     "evalue": "",
     "output_type": "error",
     "traceback": [
      "\u001b[1;31m---------------------------------------------------------------------------\u001b[0m",
      "\u001b[1;31mMyException\u001b[0m                               Traceback (most recent call last)",
      "\u001b[1;32m<ipython-input-56-691cae0aaae3>\u001b[0m in \u001b[0;36m<module>\u001b[1;34m\u001b[0m\n\u001b[0;32m      1\u001b[0m \u001b[1;32mclass\u001b[0m \u001b[0mMyException\u001b[0m\u001b[1;33m(\u001b[0m\u001b[0mException\u001b[0m\u001b[1;33m)\u001b[0m\u001b[1;33m:\u001b[0m \u001b[1;32mpass\u001b[0m\u001b[1;33m\u001b[0m\u001b[1;33m\u001b[0m\u001b[0m\n\u001b[0;32m      2\u001b[0m \u001b[1;33m\u001b[0m\u001b[0m\n\u001b[1;32m----> 3\u001b[1;33m \u001b[1;32mraise\u001b[0m \u001b[0mMyException\u001b[0m\u001b[1;33m(\u001b[0m\u001b[1;33m)\u001b[0m\u001b[1;33m\u001b[0m\u001b[1;33m\u001b[0m\u001b[0m\n\u001b[0m",
      "\u001b[1;31mMyException\u001b[0m: "
     ]
    }
   ],
   "source": [
    "class MyException(Exception): pass\n",
    "\n",
    "raise MyException()"
   ]
  },
  {
   "cell_type": "code",
   "execution_count": 58,
   "metadata": {},
   "outputs": [
    {
     "name": "stdout",
     "output_type": "stream",
     "text": [
      "Please input a number: 2\n",
      "Please input a number: 0\n",
      "The second number cannpt be 0!\n"
     ]
    }
   ],
   "source": [
    "try:                              #### 按自己的逻辑处理错误，不用抛异常\n",
    "    x = int(input('Please input a number: '))\n",
    "    y = int(input('Please input a number: '))\n",
    "    print('{}/{} = {}'.format(x, y, x/y))\n",
    "    print('hello')\n",
    "except ZeroDivisionError:\n",
    "    print('The second number cannpt be 0!')"
   ]
  },
  {
   "cell_type": "code",
   "execution_count": 67,
   "metadata": {},
   "outputs": [],
   "source": [
    "def calc(expression, no_throw=False):\n",
    "    try:\n",
    "        return eval(expression)\n",
    "    except ZeroDivisionError:\n",
    "        if no_throw:\n",
    "            print('Division by zero.')\n",
    "        else: raise ValueError from None"
   ]
  },
  {
   "cell_type": "code",
   "execution_count": 68,
   "metadata": {},
   "outputs": [
    {
     "ename": "ValueError",
     "evalue": "",
     "output_type": "error",
     "traceback": [
      "\u001b[1;31m---------------------------------------------------------------------------\u001b[0m",
      "\u001b[1;31mValueError\u001b[0m                                Traceback (most recent call last)",
      "\u001b[1;32m<ipython-input-68-0afddcb032f4>\u001b[0m in \u001b[0;36m<module>\u001b[1;34m\u001b[0m\n\u001b[1;32m----> 1\u001b[1;33m \u001b[0mcalc\u001b[0m\u001b[1;33m(\u001b[0m\u001b[1;34m'10/0'\u001b[0m\u001b[1;33m)\u001b[0m\u001b[1;33m\u001b[0m\u001b[1;33m\u001b[0m\u001b[0m\n\u001b[0m",
      "\u001b[1;32m<ipython-input-67-3d0198937b67>\u001b[0m in \u001b[0;36mcalc\u001b[1;34m(expression, no_throw)\u001b[0m\n\u001b[0;32m      5\u001b[0m         \u001b[1;32mif\u001b[0m \u001b[0mno_throw\u001b[0m\u001b[1;33m:\u001b[0m\u001b[1;33m\u001b[0m\u001b[1;33m\u001b[0m\u001b[0m\n\u001b[0;32m      6\u001b[0m             \u001b[0mprint\u001b[0m\u001b[1;33m(\u001b[0m\u001b[1;34m'Division by zero.'\u001b[0m\u001b[1;33m)\u001b[0m\u001b[1;33m\u001b[0m\u001b[1;33m\u001b[0m\u001b[0m\n\u001b[1;32m----> 7\u001b[1;33m         \u001b[1;32melse\u001b[0m\u001b[1;33m:\u001b[0m \u001b[1;32mraise\u001b[0m \u001b[0mValueError\u001b[0m \u001b[1;32mfrom\u001b[0m \u001b[1;32mNone\u001b[0m\u001b[1;33m\u001b[0m\u001b[1;33m\u001b[0m\u001b[0m\n\u001b[0m",
      "\u001b[1;31mValueError\u001b[0m: "
     ]
    }
   ],
   "source": [
    "calc('10/0')"
   ]
  },
  {
   "cell_type": "code",
   "execution_count": 71,
   "metadata": {},
   "outputs": [
    {
     "name": "stdout",
     "output_type": "stream",
     "text": [
      "Please input a number: 1\n",
      "Please input a number: a\n",
      "Invalid value.\n"
     ]
    }
   ],
   "source": [
    "try:                              #### 按自己的逻辑处理错误，不用抛异常\n",
    "    x = int(input('Please input a number: '))\n",
    "    y = int(input('Please input a number: '))\n",
    "    print('{}/{} = {}'.format(x, y, x/y))\n",
    "    print('hello')\n",
    "except ZeroDivisionError:\n",
    "    print('The second number cannot be 0!')\n",
    "except ValueError:\n",
    "    print('Invalid value.')"
   ]
  },
  {
   "cell_type": "code",
   "execution_count": 72,
   "metadata": {},
   "outputs": [
    {
     "name": "stdout",
     "output_type": "stream",
     "text": [
      "Please input a number: a\n",
      "invalid literal for int() with base 10: 'a'\n"
     ]
    }
   ],
   "source": [
    "try:                              #### 按自己的逻辑处理错误，不用抛异常\n",
    "    x = int(input('Please input a number: '))\n",
    "    y = int(input('Please input a number: '))\n",
    "    print('{}/{} = {}'.format(x, y, x/y))\n",
    "    print('hello')\n",
    "except (ZeroDivisionError, ValueError) as e:\n",
    "    print(e)\n",
    "  "
   ]
  },
  {
   "cell_type": "code",
   "execution_count": 73,
   "metadata": {},
   "outputs": [
    {
     "name": "stdout",
     "output_type": "stream",
     "text": [
      "Please input a number: 1\n",
      "Please input a number: a\n",
      "invalid literal for int() with base 10: 'a'\n",
      "Please input a number: 1\n",
      "Please input a number: 0\n",
      "division by zero\n",
      "Please input a number: 1\n",
      "Please input a number: 2\n",
      "1/2 = 0.5\n",
      "hello\n"
     ]
    }
   ],
   "source": [
    "while True:   ## do it until it's right\n",
    "    try:                              \n",
    "        x = int(input('Please input a number: '))\n",
    "        y = int(input('Please input a number: '))\n",
    "        print('{}/{} = {}'.format(x, y, x/y))\n",
    "        print('hello')\n",
    "    except (ZeroDivisionError, ValueError) as e:\n",
    "        print(e)\n",
    "    else: break"
   ]
  },
  {
   "cell_type": "code",
   "execution_count": 74,
   "metadata": {},
   "outputs": [
    {
     "name": "stdout",
     "output_type": "stream",
     "text": [
      "cleaniing up...\n"
     ]
    },
    {
     "ename": "ZeroDivisionError",
     "evalue": "division by zero",
     "output_type": "error",
     "traceback": [
      "\u001b[1;31m---------------------------------------------------------------------------\u001b[0m",
      "\u001b[1;31mZeroDivisionError\u001b[0m                         Traceback (most recent call last)",
      "\u001b[1;32m<ipython-input-74-91bbc3e17be6>\u001b[0m in \u001b[0;36m<module>\u001b[1;34m\u001b[0m\n\u001b[0;32m      1\u001b[0m \u001b[0mx\u001b[0m \u001b[1;33m=\u001b[0m \u001b[1;32mNone\u001b[0m\u001b[1;33m\u001b[0m\u001b[1;33m\u001b[0m\u001b[0m\n\u001b[0;32m      2\u001b[0m \u001b[1;32mtry\u001b[0m\u001b[1;33m:\u001b[0m\u001b[1;33m\u001b[0m\u001b[1;33m\u001b[0m\u001b[0m\n\u001b[1;32m----> 3\u001b[1;33m     \u001b[0mx\u001b[0m \u001b[1;33m=\u001b[0m \u001b[1;36m1\u001b[0m\u001b[1;33m/\u001b[0m\u001b[1;36m0\u001b[0m\u001b[1;33m\u001b[0m\u001b[1;33m\u001b[0m\u001b[0m\n\u001b[0m\u001b[0;32m      4\u001b[0m \u001b[1;32mfinally\u001b[0m\u001b[1;33m:\u001b[0m\u001b[1;33m\u001b[0m\u001b[1;33m\u001b[0m\u001b[0m\n\u001b[0;32m      5\u001b[0m     \u001b[0mprint\u001b[0m\u001b[1;33m(\u001b[0m\u001b[1;34m'cleaniing up...'\u001b[0m\u001b[1;33m)\u001b[0m\u001b[1;33m\u001b[0m\u001b[1;33m\u001b[0m\u001b[0m\n",
      "\u001b[1;31mZeroDivisionError\u001b[0m: division by zero"
     ]
    }
   ],
   "source": [
    "x = None\n",
    "try:\n",
    "    x = 1/0\n",
    "finally:  ### whatever falut, continue to finish the program\n",
    "    print('cleaniing up...')\n",
    "    del x"
   ]
  },
  {
   "cell_type": "code",
   "execution_count": 77,
   "metadata": {},
   "outputs": [
    {
     "name": "stdout",
     "output_type": "stream",
     "text": [
      "outer...before calling inner.\n",
      "innner...\n"
     ]
    },
    {
     "ename": "Exception",
     "evalue": "",
     "output_type": "error",
     "traceback": [
      "\u001b[1;31m---------------------------------------------------------------------------\u001b[0m",
      "\u001b[1;31mException\u001b[0m                                 Traceback (most recent call last)",
      "\u001b[1;32m<ipython-input-77-e8086eda5e1b>\u001b[0m in \u001b[0;36m<module>\u001b[1;34m\u001b[0m\n\u001b[0;32m      8\u001b[0m     \u001b[0mprint\u001b[0m\u001b[1;33m(\u001b[0m\u001b[1;34m'outer...before calling inner.'\u001b[0m\u001b[1;33m)\u001b[0m\u001b[1;33m\u001b[0m\u001b[1;33m\u001b[0m\u001b[0m\n\u001b[0;32m      9\u001b[0m \u001b[1;33m\u001b[0m\u001b[0m\n\u001b[1;32m---> 10\u001b[1;33m \u001b[0mouter\u001b[0m\u001b[1;33m(\u001b[0m\u001b[1;33m)\u001b[0m\u001b[1;33m\u001b[0m\u001b[1;33m\u001b[0m\u001b[0m\n\u001b[0m",
      "\u001b[1;32m<ipython-input-77-e8086eda5e1b>\u001b[0m in \u001b[0;36mouter\u001b[1;34m()\u001b[0m\n\u001b[0;32m      5\u001b[0m \u001b[1;32mdef\u001b[0m \u001b[0mouter\u001b[0m\u001b[1;33m(\u001b[0m\u001b[1;33m)\u001b[0m\u001b[1;33m:\u001b[0m\u001b[1;33m\u001b[0m\u001b[1;33m\u001b[0m\u001b[0m\n\u001b[0;32m      6\u001b[0m     \u001b[0mprint\u001b[0m\u001b[1;33m(\u001b[0m\u001b[1;34m'outer...before calling inner.'\u001b[0m\u001b[1;33m)\u001b[0m\u001b[1;33m\u001b[0m\u001b[1;33m\u001b[0m\u001b[0m\n\u001b[1;32m----> 7\u001b[1;33m     \u001b[0minner\u001b[0m\u001b[1;33m(\u001b[0m\u001b[1;33m)\u001b[0m\u001b[1;33m\u001b[0m\u001b[1;33m\u001b[0m\u001b[0m\n\u001b[0m\u001b[0;32m      8\u001b[0m     \u001b[0mprint\u001b[0m\u001b[1;33m(\u001b[0m\u001b[1;34m'outer...before calling inner.'\u001b[0m\u001b[1;33m)\u001b[0m\u001b[1;33m\u001b[0m\u001b[1;33m\u001b[0m\u001b[0m\n\u001b[0;32m      9\u001b[0m \u001b[1;33m\u001b[0m\u001b[0m\n",
      "\u001b[1;32m<ipython-input-77-e8086eda5e1b>\u001b[0m in \u001b[0;36minner\u001b[1;34m()\u001b[0m\n\u001b[0;32m      1\u001b[0m \u001b[1;32mdef\u001b[0m \u001b[0minner\u001b[0m\u001b[1;33m(\u001b[0m\u001b[1;33m)\u001b[0m\u001b[1;33m:\u001b[0m\u001b[1;33m\u001b[0m\u001b[1;33m\u001b[0m\u001b[0m\n\u001b[0;32m      2\u001b[0m     \u001b[0mprint\u001b[0m\u001b[1;33m(\u001b[0m\u001b[1;34m'innner...'\u001b[0m\u001b[1;33m)\u001b[0m\u001b[1;33m\u001b[0m\u001b[1;33m\u001b[0m\u001b[0m\n\u001b[1;32m----> 3\u001b[1;33m     \u001b[1;32mraise\u001b[0m \u001b[0mException\u001b[0m\u001b[1;33m\u001b[0m\u001b[1;33m\u001b[0m\u001b[0m\n\u001b[0m\u001b[0;32m      4\u001b[0m \u001b[1;33m\u001b[0m\u001b[0m\n\u001b[0;32m      5\u001b[0m \u001b[1;32mdef\u001b[0m \u001b[0mouter\u001b[0m\u001b[1;33m(\u001b[0m\u001b[1;33m)\u001b[0m\u001b[1;33m:\u001b[0m\u001b[1;33m\u001b[0m\u001b[1;33m\u001b[0m\u001b[0m\n",
      "\u001b[1;31mException\u001b[0m: "
     ]
    }
   ],
   "source": [
    "def inner():\n",
    "    print('innner...')\n",
    "    raise Exception\n",
    "    \n",
    "def outer():\n",
    "    print('outer...before calling inner.')\n",
    "    inner()\n",
    "    print('outer...before calling inner.')\n",
    "    \n",
    "outer()"
   ]
  },
  {
   "cell_type": "code",
   "execution_count": null,
   "metadata": {},
   "outputs": [],
   "source": []
  }
 ],
 "metadata": {
  "kernelspec": {
   "display_name": "Python 3",
   "language": "python",
   "name": "python3"
  },
  "language_info": {
   "codemirror_mode": {
    "name": "ipython",
    "version": 3
   },
   "file_extension": ".py",
   "mimetype": "text/x-python",
   "name": "python",
   "nbconvert_exporter": "python",
   "pygments_lexer": "ipython3",
   "version": "3.7.3"
  }
 },
 "nbformat": 4,
 "nbformat_minor": 2
}
